{
 "cells": [
  {
   "cell_type": "markdown",
   "metadata": {},
   "source": [
    "# Bayesian network model of predator-prey interactions"
   ]
  },
  {
   "cell_type": "markdown",
   "metadata": {},
   "source": [
    "## 1. Description"
   ]
  },
  {
   "cell_type": "markdown",
   "metadata": {},
   "source": [
    "Here, I build a Bayesian network implementation of the DAG where there is no feedback between the predator and the prey's behavior within a match.\n",
    "\n",
    "Our objective is to use causal inference to model the predator-prey interaction as it changes throughout the predator's experience. Our DAG explains how we expect the system to work."
   ]
  },
  {
   "cell_type": "markdown",
   "metadata": {},
   "source": [
    "## 2. Prepare the session"
   ]
  },
  {
   "cell_type": "markdown",
   "metadata": {},
   "source": [
    "I start by importing the libraries that I'll need to build the network."
   ]
  },
  {
   "cell_type": "code",
   "execution_count": 1,
   "metadata": {},
   "outputs": [],
   "source": [
    "# For the Bayesian network\n",
    "from pgmpy.models import BayesianNetwork\n",
    "from pgmpy.estimators import BayesianEstimator\n",
    "from pgmpy.estimators import CITests\n",
    "\n",
    "# For data manipulations\n",
    "from pathlib import Path\n",
    "import pandas as pd\n",
    "import numpy as np\n",
    "\n",
    "# To import and export files\n",
    "from joblib import dump\n",
    "import os"
   ]
  },
  {
   "cell_type": "markdown",
   "metadata": {},
   "source": [
    "I also define the path to the \"outputs\" folder of the project to save the trained model, the independence tests, and the testing data."
   ]
  },
  {
   "cell_type": "code",
   "execution_count": 2,
   "metadata": {},
   "outputs": [],
   "source": [
    "# Define the parent directory\n",
    "parent_folder = os.path.abspath(\n",
    "    os.path.join(os.getcwd(), os.pardir)\n",
    ")\n",
    "\n",
    "# Define the subfolder directory\n",
    "output_folder = os.path.join(\n",
    "    parent_folder, \"outputs\"\n",
    ")\n",
    "\n",
    "# Name of the outpout files\n",
    "file_name1 = \"BayesNet-model-data.joblib\"\n",
    "file_name2 = \"BayesNet-fit.joblib\"\n",
    "file_name3 = \"BayesNet-IndTests.joblib\"\n",
    "\n",
    "# Create the full path\n",
    "output_path1 = os.path.join(\n",
    "    output_folder, file_name1\n",
    "\n",
    ")\n",
    "output_path2 = os.path.join(\n",
    "    output_folder, file_name2\n",
    "\n",
    ")\n",
    "output_path3 = os.path.join(\n",
    "    output_folder, file_name3\n",
    "\n",
    ")"
   ]
  },
  {
   "cell_type": "markdown",
   "metadata": {},
   "source": [
    "## 3. Import the data"
   ]
  },
  {
   "cell_type": "markdown",
   "metadata": {},
   "source": [
    "I import the data to build the network"
   ]
  },
  {
   "cell_type": "code",
   "execution_count": 3,
   "metadata": {},
   "outputs": [],
   "source": [
    "# Parent folder\n",
    "notebook_dir = Path.cwd()\n",
    "parent_folder = notebook_dir.parent\n",
    "\n",
    "# Data path\n",
    "data_subfolder = \"data\"\n",
    "file_name = \"FraserFranco-etal-XXXX.csv\"\n",
    "\n",
    "# Full path to data file\n",
    "file_path = parent_folder / data_subfolder / file_name\n",
    "\n",
    "# Import dataset\n",
    "data = pd.read_csv(file_path, index_col = None)"
   ]
  },
  {
   "cell_type": "markdown",
   "metadata": {},
   "source": [
    "### 3.1 Visualize the data structure\n",
    "\n",
    "Let's start by checking the data"
   ]
  },
  {
   "cell_type": "code",
   "execution_count": 4,
   "metadata": {},
   "outputs": [
    {
     "data": {
      "text/html": [
       "<div>\n",
       "<style scoped>\n",
       "    .dataframe tbody tr th:only-of-type {\n",
       "        vertical-align: middle;\n",
       "    }\n",
       "\n",
       "    .dataframe tbody tr th {\n",
       "        vertical-align: top;\n",
       "    }\n",
       "\n",
       "    .dataframe thead th {\n",
       "        text-align: right;\n",
       "    }\n",
       "</style>\n",
       "<table border=\"1\" class=\"dataframe\">\n",
       "  <thead>\n",
       "    <tr style=\"text-align: right;\">\n",
       "      <th></th>\n",
       "      <th>match_id</th>\n",
       "      <th>predator_id</th>\n",
       "      <th>xp_level</th>\n",
       "      <th>timestamp</th>\n",
       "      <th>game_mode</th>\n",
       "      <th>realm_id</th>\n",
       "      <th>environment_id</th>\n",
       "      <th>avatar_id</th>\n",
       "      <th>game_duration</th>\n",
       "      <th>prey_avg_rank</th>\n",
       "      <th>...</th>\n",
       "      <th>prior_prey_speed</th>\n",
       "      <th>prior_prey_heal</th>\n",
       "      <th>prior_success</th>\n",
       "      <th>prior_prey_captured</th>\n",
       "      <th>prior_chases_persec</th>\n",
       "      <th>prior_chase_count</th>\n",
       "      <th>range_prey_speed</th>\n",
       "      <th>iqrange_prey_speed</th>\n",
       "      <th>time_lag_matches</th>\n",
       "      <th>time_lag_session</th>\n",
       "    </tr>\n",
       "  </thead>\n",
       "  <tbody>\n",
       "    <tr>\n",
       "      <th>0</th>\n",
       "      <td>DHCF1PHC</td>\n",
       "      <td>pred100494</td>\n",
       "      <td>novice</td>\n",
       "      <td>2021-01-02 14:47:16</td>\n",
       "      <td>Online</td>\n",
       "      <td>Yamaoka Estate</td>\n",
       "      <td>Family Residence</td>\n",
       "      <td>Wraith</td>\n",
       "      <td>399.848999</td>\n",
       "      <td>11.75</td>\n",
       "      <td>...</td>\n",
       "      <td>NaN</td>\n",
       "      <td>NaN</td>\n",
       "      <td>NaN</td>\n",
       "      <td>NaN</td>\n",
       "      <td>NaN</td>\n",
       "      <td>NaN</td>\n",
       "      <td>NaN</td>\n",
       "      <td>NaN</td>\n",
       "      <td>NaN</td>\n",
       "      <td>NaN</td>\n",
       "    </tr>\n",
       "    <tr>\n",
       "      <th>1</th>\n",
       "      <td>BHJFA1I0</td>\n",
       "      <td>pred100494</td>\n",
       "      <td>novice</td>\n",
       "      <td>2021-01-02 14:57:02</td>\n",
       "      <td>Online</td>\n",
       "      <td>The Macmillan Estate</td>\n",
       "      <td>Groaning Storehouse</td>\n",
       "      <td>Wraith</td>\n",
       "      <td>319.134979</td>\n",
       "      <td>11.75</td>\n",
       "      <td>...</td>\n",
       "      <td>2.129557</td>\n",
       "      <td>1.25</td>\n",
       "      <td>0.0</td>\n",
       "      <td>0.0</td>\n",
       "      <td>0.012505</td>\n",
       "      <td>5.0</td>\n",
       "      <td>0.149114</td>\n",
       "      <td>0.074557</td>\n",
       "      <td>9.766133</td>\n",
       "      <td>NaN</td>\n",
       "    </tr>\n",
       "    <tr>\n",
       "      <th>2</th>\n",
       "      <td>PMM9CDDR</td>\n",
       "      <td>pred100494</td>\n",
       "      <td>novice</td>\n",
       "      <td>2021-01-02 15:08:18</td>\n",
       "      <td>Online</td>\n",
       "      <td>Silent Hill</td>\n",
       "      <td>Midwich Elementary School</td>\n",
       "      <td>Doctor</td>\n",
       "      <td>687.513123</td>\n",
       "      <td>15.25</td>\n",
       "      <td>...</td>\n",
       "      <td>2.278671</td>\n",
       "      <td>0.00</td>\n",
       "      <td>0.0</td>\n",
       "      <td>0.0</td>\n",
       "      <td>0.025068</td>\n",
       "      <td>8.0</td>\n",
       "      <td>0.315710</td>\n",
       "      <td>0.157855</td>\n",
       "      <td>11.271783</td>\n",
       "      <td>NaN</td>\n",
       "    </tr>\n",
       "    <tr>\n",
       "      <th>3</th>\n",
       "      <td>3NT75SH7</td>\n",
       "      <td>pred100494</td>\n",
       "      <td>novice</td>\n",
       "      <td>2021-01-02 15:30:29</td>\n",
       "      <td>Online</td>\n",
       "      <td>Autohaven Wreckers</td>\n",
       "      <td>Blood Lodge</td>\n",
       "      <td>Huntress</td>\n",
       "      <td>528.620361</td>\n",
       "      <td>11.25</td>\n",
       "      <td>...</td>\n",
       "      <td>1.962961</td>\n",
       "      <td>1.75</td>\n",
       "      <td>0.0</td>\n",
       "      <td>0.0</td>\n",
       "      <td>0.027636</td>\n",
       "      <td>19.0</td>\n",
       "      <td>0.452196</td>\n",
       "      <td>0.224884</td>\n",
       "      <td>22.176050</td>\n",
       "      <td>NaN</td>\n",
       "    </tr>\n",
       "    <tr>\n",
       "      <th>4</th>\n",
       "      <td>MNL0ZWA5</td>\n",
       "      <td>pred100494</td>\n",
       "      <td>novice</td>\n",
       "      <td>2021-01-02 15:46:26</td>\n",
       "      <td>Online</td>\n",
       "      <td>Grave of Glenvale</td>\n",
       "      <td>Dead Dawg Saloon</td>\n",
       "      <td>Hillbilly</td>\n",
       "      <td>409.839844</td>\n",
       "      <td>14.50</td>\n",
       "      <td>...</td>\n",
       "      <td>2.415156</td>\n",
       "      <td>1.75</td>\n",
       "      <td>0.0</td>\n",
       "      <td>0.0</td>\n",
       "      <td>0.020809</td>\n",
       "      <td>11.0</td>\n",
       "      <td>0.819235</td>\n",
       "      <td>0.315710</td>\n",
       "      <td>15.946550</td>\n",
       "      <td>NaN</td>\n",
       "    </tr>\n",
       "    <tr>\n",
       "      <th>5</th>\n",
       "      <td>T0MHB9EN</td>\n",
       "      <td>pred100494</td>\n",
       "      <td>novice</td>\n",
       "      <td>2021-01-12 10:14:16</td>\n",
       "      <td>Online</td>\n",
       "      <td>Red Forest</td>\n",
       "      <td>Mother's Dwelling</td>\n",
       "      <td>Hag</td>\n",
       "      <td>398.106689</td>\n",
       "      <td>8.75</td>\n",
       "      <td>...</td>\n",
       "      <td>1.595922</td>\n",
       "      <td>0.00</td>\n",
       "      <td>0.0</td>\n",
       "      <td>0.0</td>\n",
       "      <td>0.009760</td>\n",
       "      <td>4.0</td>\n",
       "      <td>0.842429</td>\n",
       "      <td>0.376425</td>\n",
       "      <td>14067.845300</td>\n",
       "      <td>234.464088</td>\n",
       "    </tr>\n",
       "    <tr>\n",
       "      <th>6</th>\n",
       "      <td>ITTTMPEX</td>\n",
       "      <td>pred100494</td>\n",
       "      <td>novice</td>\n",
       "      <td>2021-01-18 02:38:28</td>\n",
       "      <td>Online</td>\n",
       "      <td>The Macmillan Estate</td>\n",
       "      <td>Ironworks of Misery</td>\n",
       "      <td>Wraith</td>\n",
       "      <td>354.199341</td>\n",
       "      <td>7.25</td>\n",
       "      <td>...</td>\n",
       "      <td>2.438350</td>\n",
       "      <td>0.00</td>\n",
       "      <td>0.0</td>\n",
       "      <td>0.0</td>\n",
       "      <td>0.015071</td>\n",
       "      <td>6.0</td>\n",
       "      <td>1.216089</td>\n",
       "      <td>0.380495</td>\n",
       "      <td>8184.188533</td>\n",
       "      <td>136.403142</td>\n",
       "    </tr>\n",
       "    <tr>\n",
       "      <th>7</th>\n",
       "      <td>VJDT9LDF</td>\n",
       "      <td>pred100494</td>\n",
       "      <td>novice</td>\n",
       "      <td>2021-01-18 02:57:38</td>\n",
       "      <td>Online</td>\n",
       "      <td>Autohaven Wreckers</td>\n",
       "      <td>Blood Lodge</td>\n",
       "      <td>Hag</td>\n",
       "      <td>744.018616</td>\n",
       "      <td>19.50</td>\n",
       "      <td>...</td>\n",
       "      <td>2.812010</td>\n",
       "      <td>0.25</td>\n",
       "      <td>0.0</td>\n",
       "      <td>0.0</td>\n",
       "      <td>0.022586</td>\n",
       "      <td>8.0</td>\n",
       "      <td>1.216089</td>\n",
       "      <td>0.333047</td>\n",
       "      <td>19.173067</td>\n",
       "      <td>136.403142</td>\n",
       "    </tr>\n",
       "    <tr>\n",
       "      <th>8</th>\n",
       "      <td>2TIUE2QD</td>\n",
       "      <td>pred100494</td>\n",
       "      <td>novice</td>\n",
       "      <td>2021-01-18 09:50:45</td>\n",
       "      <td>Online</td>\n",
       "      <td>Crotus Prenn Asylum</td>\n",
       "      <td>Father Campbell's Chapel</td>\n",
       "      <td>Wraith</td>\n",
       "      <td>535.973206</td>\n",
       "      <td>19.25</td>\n",
       "      <td>...</td>\n",
       "      <td>2.321259</td>\n",
       "      <td>2.75</td>\n",
       "      <td>1.0</td>\n",
       "      <td>1.0</td>\n",
       "      <td>0.022849</td>\n",
       "      <td>17.0</td>\n",
       "      <td>1.216089</td>\n",
       "      <td>0.285599</td>\n",
       "      <td>413.114583</td>\n",
       "      <td>136.403142</td>\n",
       "    </tr>\n",
       "    <tr>\n",
       "      <th>9</th>\n",
       "      <td>XP4PLOXG</td>\n",
       "      <td>pred100494</td>\n",
       "      <td>novice</td>\n",
       "      <td>2021-01-18 10:16:18</td>\n",
       "      <td>Online</td>\n",
       "      <td>Hawkins</td>\n",
       "      <td>Underground Complex</td>\n",
       "      <td>Hag</td>\n",
       "      <td>844.517029</td>\n",
       "      <td>17.75</td>\n",
       "      <td>...</td>\n",
       "      <td>2.151938</td>\n",
       "      <td>0.50</td>\n",
       "      <td>0.0</td>\n",
       "      <td>0.0</td>\n",
       "      <td>0.031718</td>\n",
       "      <td>17.0</td>\n",
       "      <td>1.216089</td>\n",
       "      <td>0.292485</td>\n",
       "      <td>25.544300</td>\n",
       "      <td>136.403142</td>\n",
       "    </tr>\n",
       "  </tbody>\n",
       "</table>\n",
       "<p>10 rows × 39 columns</p>\n",
       "</div>"
      ],
      "text/plain": [
       "   match_id predator_id xp_level            timestamp game_mode  \\\n",
       "0  DHCF1PHC  pred100494   novice  2021-01-02 14:47:16    Online   \n",
       "1  BHJFA1I0  pred100494   novice  2021-01-02 14:57:02    Online   \n",
       "2  PMM9CDDR  pred100494   novice  2021-01-02 15:08:18    Online   \n",
       "3  3NT75SH7  pred100494   novice  2021-01-02 15:30:29    Online   \n",
       "4  MNL0ZWA5  pred100494   novice  2021-01-02 15:46:26    Online   \n",
       "5  T0MHB9EN  pred100494   novice  2021-01-12 10:14:16    Online   \n",
       "6  ITTTMPEX  pred100494   novice  2021-01-18 02:38:28    Online   \n",
       "7  VJDT9LDF  pred100494   novice  2021-01-18 02:57:38    Online   \n",
       "8  2TIUE2QD  pred100494   novice  2021-01-18 09:50:45    Online   \n",
       "9  XP4PLOXG  pred100494   novice  2021-01-18 10:16:18    Online   \n",
       "\n",
       "               realm_id             environment_id  avatar_id  game_duration  \\\n",
       "0        Yamaoka Estate           Family Residence     Wraith     399.848999   \n",
       "1  The Macmillan Estate        Groaning Storehouse     Wraith     319.134979   \n",
       "2           Silent Hill  Midwich Elementary School     Doctor     687.513123   \n",
       "3    Autohaven Wreckers                Blood Lodge   Huntress     528.620361   \n",
       "4     Grave of Glenvale           Dead Dawg Saloon  Hillbilly     409.839844   \n",
       "5            Red Forest          Mother's Dwelling        Hag     398.106689   \n",
       "6  The Macmillan Estate        Ironworks of Misery     Wraith     354.199341   \n",
       "7    Autohaven Wreckers                Blood Lodge        Hag     744.018616   \n",
       "8   Crotus Prenn Asylum   Father Campbell's Chapel     Wraith     535.973206   \n",
       "9               Hawkins        Underground Complex        Hag     844.517029   \n",
       "\n",
       "   prey_avg_rank  ...  prior_prey_speed  prior_prey_heal  prior_success  \\\n",
       "0          11.75  ...               NaN              NaN            NaN   \n",
       "1          11.75  ...          2.129557             1.25            0.0   \n",
       "2          15.25  ...          2.278671             0.00            0.0   \n",
       "3          11.25  ...          1.962961             1.75            0.0   \n",
       "4          14.50  ...          2.415156             1.75            0.0   \n",
       "5           8.75  ...          1.595922             0.00            0.0   \n",
       "6           7.25  ...          2.438350             0.00            0.0   \n",
       "7          19.50  ...          2.812010             0.25            0.0   \n",
       "8          19.25  ...          2.321259             2.75            1.0   \n",
       "9          17.75  ...          2.151938             0.50            0.0   \n",
       "\n",
       "   prior_prey_captured  prior_chases_persec  prior_chase_count  \\\n",
       "0                  NaN                  NaN                NaN   \n",
       "1                  0.0             0.012505                5.0   \n",
       "2                  0.0             0.025068                8.0   \n",
       "3                  0.0             0.027636               19.0   \n",
       "4                  0.0             0.020809               11.0   \n",
       "5                  0.0             0.009760                4.0   \n",
       "6                  0.0             0.015071                6.0   \n",
       "7                  0.0             0.022586                8.0   \n",
       "8                  1.0             0.022849               17.0   \n",
       "9                  0.0             0.031718               17.0   \n",
       "\n",
       "   range_prey_speed  iqrange_prey_speed  time_lag_matches time_lag_session  \n",
       "0               NaN                 NaN               NaN              NaN  \n",
       "1          0.149114            0.074557          9.766133              NaN  \n",
       "2          0.315710            0.157855         11.271783              NaN  \n",
       "3          0.452196            0.224884         22.176050              NaN  \n",
       "4          0.819235            0.315710         15.946550              NaN  \n",
       "5          0.842429            0.376425      14067.845300       234.464088  \n",
       "6          1.216089            0.380495       8184.188533       136.403142  \n",
       "7          1.216089            0.333047         19.173067       136.403142  \n",
       "8          1.216089            0.285599        413.114583       136.403142  \n",
       "9          1.216089            0.292485         25.544300       136.403142  \n",
       "\n",
       "[10 rows x 39 columns]"
      ]
     },
     "execution_count": 4,
     "metadata": {},
     "output_type": "execute_result"
    }
   ],
   "source": [
    "data.head(n = 10)"
   ]
  },
  {
   "cell_type": "code",
   "execution_count": 5,
   "metadata": {},
   "outputs": [
    {
     "name": "stdout",
     "output_type": "stream",
     "text": [
      "<class 'pandas.core.frame.DataFrame'>\n",
      "RangeIndex: 100062 entries, 0 to 100061\n",
      "Data columns (total 39 columns):\n",
      " #   Column                 Non-Null Count   Dtype  \n",
      "---  ------                 --------------   -----  \n",
      " 0   match_id               100062 non-null  object \n",
      " 1   predator_id            100062 non-null  object \n",
      " 2   xp_level               100062 non-null  object \n",
      " 3   timestamp              100062 non-null  object \n",
      " 4   game_mode              100062 non-null  object \n",
      " 5   realm_id               100062 non-null  object \n",
      " 6   environment_id         100062 non-null  object \n",
      " 7   avatar_id              100062 non-null  object \n",
      " 8   game_duration          100062 non-null  float64\n",
      " 9   prey_avg_rank          100062 non-null  float64\n",
      " 10  total_xp_pred          100062 non-null  int64  \n",
      " 11  cumul_xp_pred          100062 non-null  int64  \n",
      " 12  hunting_success        100062 non-null  int64  \n",
      " 13  points_predator        100062 non-null  int64  \n",
      " 14  pred_speed             100062 non-null  float64\n",
      " 15  prey_avg_speed         100061 non-null  float64\n",
      " 16  predicted_mean_speed   100062 non-null  float64\n",
      " 17  predicted_sigma_speed  100062 non-null  float64\n",
      " 18  cluster                100062 non-null  int64  \n",
      " 19  hunting_type           100062 non-null  object \n",
      " 20  chase_count            100062 non-null  int64  \n",
      " 21  chase_count_success    100062 non-null  int64  \n",
      " 22  attacks_count          100062 non-null  int64  \n",
      " 23  prey_avg_heal_count    100061 non-null  float64\n",
      " 24  prey_var_heal_count    99959 non-null   float64\n",
      " 25  prey_var_speed         99959 non-null   float64\n",
      " 26  chase_success_ratio    99912 non-null   float64\n",
      " 27  chases_persec          100062 non-null  float64\n",
      " 28  prey_captured          100062 non-null  int64  \n",
      " 29  prior_prey_speed       99809 non-null   float64\n",
      " 30  prior_prey_heal        99809 non-null   float64\n",
      " 31  prior_success          99810 non-null   float64\n",
      " 32  prior_prey_captured    99810 non-null   float64\n",
      " 33  prior_chases_persec    99810 non-null   float64\n",
      " 34  prior_chase_count      99810 non-null   float64\n",
      " 35  range_prey_speed       99810 non-null   float64\n",
      " 36  iqrange_prey_speed     99810 non-null   float64\n",
      " 37  time_lag_matches       99810 non-null   float64\n",
      " 38  time_lag_session       98613 non-null   float64\n",
      "dtypes: float64(21), int64(9), object(9)\n",
      "memory usage: 29.8+ MB\n"
     ]
    }
   ],
   "source": [
    "data.info()"
   ]
  },
  {
   "cell_type": "code",
   "execution_count": 6,
   "metadata": {},
   "outputs": [
    {
     "name": "stdout",
     "output_type": "stream",
     "text": [
      "Colum names: Index(['match_id', 'predator_id', 'xp_level', 'timestamp', 'game_mode',\n",
      "       'realm_id', 'environment_id', 'avatar_id', 'game_duration',\n",
      "       'prey_avg_rank', 'total_xp_pred', 'cumul_xp_pred', 'hunting_success',\n",
      "       'points_predator', 'pred_speed', 'prey_avg_speed',\n",
      "       'predicted_mean_speed', 'predicted_sigma_speed', 'cluster',\n",
      "       'hunting_type', 'chase_count', 'chase_count_success', 'attacks_count',\n",
      "       'prey_avg_heal_count', 'prey_var_heal_count', 'prey_var_speed',\n",
      "       'chase_success_ratio', 'chases_persec', 'prey_captured',\n",
      "       'prior_prey_speed', 'prior_prey_heal', 'prior_success',\n",
      "       'prior_prey_captured', 'prior_chases_persec', 'prior_chase_count',\n",
      "       'range_prey_speed', 'iqrange_prey_speed', 'time_lag_matches',\n",
      "       'time_lag_session'],\n",
      "      dtype='object')\n"
     ]
    }
   ],
   "source": [
    "print(\"Colum names:\", data.columns)"
   ]
  },
  {
   "cell_type": "markdown",
   "metadata": {},
   "source": [
    "### 3.2 Delete anomalies in the data\n",
    "\n",
    "Check the descriptive stats for chase count"
   ]
  },
  {
   "cell_type": "code",
   "execution_count": 7,
   "metadata": {},
   "outputs": [
    {
     "name": "stdout",
     "output_type": "stream",
     "text": [
      "Quantiles:\n",
      "0.25    14.0\n",
      "0.50    19.0\n",
      "0.75    24.0\n",
      "Name: chase_count, dtype: float64\n",
      "\n",
      "Descriptive statistics:\n",
      "count    100062.000000\n",
      "mean         19.781605\n",
      "std           8.331573\n",
      "min           0.000000\n",
      "25%          14.000000\n",
      "50%          19.000000\n",
      "75%          24.000000\n",
      "max         155.000000\n",
      "Name: chase_count, dtype: float64\n"
     ]
    }
   ],
   "source": [
    "# Get the DataFrame column\n",
    "chase_count = data[\"chase_count\"]\n",
    "\n",
    "# Calculate quantiles\n",
    "quantiles = chase_count.quantile([0.25, 0.5, 0.75])\n",
    "\n",
    "# Get descriptive statistics\n",
    "desc = chase_count.describe()\n",
    "\n",
    "# Print results\n",
    "print(\"Quantiles:\")\n",
    "print(quantiles)\n",
    "print(\"\\nDescriptive statistics:\")\n",
    "print(desc)"
   ]
  },
  {
   "cell_type": "markdown",
   "metadata": {},
   "source": [
    "Some matches had a very high amounts of chases suggesting that players were farming for points. I remove these matches. I use an arbitrary threshold of 70 chases following the descriptive stats."
   ]
  },
  {
   "cell_type": "code",
   "execution_count": 8,
   "metadata": {},
   "outputs": [
    {
     "name": "stdout",
     "output_type": "stream",
     "text": [
      "Number of observations above 70 : 60\n"
     ]
    }
   ],
   "source": [
    "threshold = 70\n",
    "\n",
    "# Filter instances above the threshold\n",
    "anomalies = chase_count[chase_count > threshold]\n",
    "\n",
    "# Count the number of instances above the threshold\n",
    "obs_above_threshold = len(anomalies)\n",
    "\n",
    "print(\"Number of observations above\", threshold, \":\", obs_above_threshold)"
   ]
  },
  {
   "cell_type": "markdown",
   "metadata": {},
   "source": [
    "I filter out any matches where the chase count was too high."
   ]
  },
  {
   "cell_type": "code",
   "execution_count": 9,
   "metadata": {},
   "outputs": [],
   "source": [
    "data = data[data[\"chase_count\"] <= 70]\n",
    "data = data[data[\"prior_chase_count\"] <= 70]"
   ]
  },
  {
   "cell_type": "markdown",
   "metadata": {},
   "source": [
    "## 4. Prepare data for the Bayesian network"
   ]
  },
  {
   "cell_type": "markdown",
   "metadata": {},
   "source": [
    "### 4.1 Delete anomalies in the data"
   ]
  },
  {
   "cell_type": "markdown",
   "metadata": {},
   "source": [
    "### 4.2 Check the distribution of the variables"
   ]
  },
  {
   "cell_type": "code",
   "execution_count": 10,
   "metadata": {},
   "outputs": [
    {
     "data": {
      "image/png": "[encoded data removed]",
      "text/plain": [
       "<Figure size 1800x1400 with 9 Axes>"
      ]
     },
     "metadata": {},
     "output_type": "display_data"
    }
   ],
   "source": [
    "import matplotlib.pyplot as plt\n",
    "\n",
    "# Define the columns and titles\n",
    "columns = [\n",
    "    \"prey_avg_speed\",\n",
    "    \"pred_speed\",\n",
    "    \"time_lag_session\",\n",
    "    \"prior_prey_speed\",\n",
    "    \"chases_persec\",\n",
    "    \"prior_chases_persec\",\n",
    "    \"prey_var_speed\",\n",
    "    \"iqrange_prey_speed\",\n",
    "    \"prey_avg_rank\"\n",
    "]\n",
    "\n",
    "titles = [\n",
    "    \"Prey average speed\",\n",
    "    \"Predator speed\",\n",
    "    \"Time lag between sessions\",\n",
    "    \"Prior prey speed\",\n",
    "    \"Chases per sec\",\n",
    "    \"Prior chases per sec\",\n",
    "    \"Variance in prey speed\",\n",
    "    \"Range of prey speed enc.\",\n",
    "    \"Prey skill\"\n",
    "]\n",
    "\n",
    "# Create subplots\n",
    "fig, axs = plt.subplots(\n",
    "    nrows = 3, ncols = 3,\n",
    "    figsize = (18, 14)\n",
    ")\n",
    "\n",
    "axs = axs.flatten()\n",
    "\n",
    "# Plot histograms and set titles\n",
    "for i, col in enumerate(columns):\n",
    "    if i < len(titles):\n",
    "        axs[i].hist(\n",
    "            data[col],\n",
    "            bins = 20,\n",
    "            color = \"seagreen\",\n",
    "            edgecolor = \"black\"\n",
    "        )\n",
    "        axs[i].set_title(titles[i])\n",
    "\n",
    "# Adjust layout\n",
    "plt.show()"
   ]
  },
  {
   "cell_type": "markdown",
   "metadata": {},
   "source": [
    "### 4.3 Transform skewed variables\n",
    "\n",
    "I will log transform the time lag between each session and the variance in speed of the prey group as both will be otherwise difficult to bin in their current form."
   ]
  },
  {
   "cell_type": "code",
   "execution_count": 11,
   "metadata": {},
   "outputs": [],
   "source": [
    "# Columns to log-transform\n",
    "columns_to_log = [\n",
    "    \"time_lag_session\",\n",
    "    \"prey_var_speed\"    \n",
    "]\n",
    "\n",
    "# Log transform selected columns\n",
    "for col in columns_to_log:\n",
    "    new_col_name = col + \"_log\"\n",
    "    data[new_col_name] = np.log(data[col])"
   ]
  },
  {
   "cell_type": "markdown",
   "metadata": {},
   "source": [
    "Plot the results"
   ]
  },
  {
   "cell_type": "code",
   "execution_count": 12,
   "metadata": {},
   "outputs": [
    {
     "data": {
      "image/png": "[encoded data removed]",
      "text/plain": [
       "<Figure size 1000x500 with 2 Axes>"
      ]
     },
     "metadata": {},
     "output_type": "display_data"
    }
   ],
   "source": [
    "fig, axs = plt.subplots(\n",
    "    nrows = 1, ncols = 2,\n",
    "    figsize = (10, 5)\n",
    ")\n",
    "axs[0].hist(\n",
    "    data[\"time_lag_session_log\"], bins = 20,\n",
    "    color = \"seagreen\",\n",
    "    edgecolor = \"black\"\n",
    ")\n",
    "axs[1].hist(\n",
    "    data[\"prey_var_speed_log\"], bins = 20,\n",
    "    color = \"seagreen\",\n",
    "    edgecolor = \"black\"\n",
    ")\n",
    "\n",
    "axs[0].set_title(\"Log time lag between sessions\")\n",
    "axs[1].set_title(\"Log variance in prey speed\")\n",
    "\n",
    "plt.show()"
   ]
  },
  {
   "cell_type": "markdown",
   "metadata": {},
   "source": [
    "### 4.4 Discretize variables"
   ]
  },
  {
   "cell_type": "markdown",
   "metadata": {},
   "source": [
    "#### 4.4.1 Quantile-based\n",
    "\n",
    "I start by discretizing the continuous variables that can be easily discretized with a quantile-based approach with 3 bins.\n",
    "\n",
    "I do it for :\n",
    "- **the average speed of the prey group**\n",
    "- **the average speed of the prey group in the previous match**"
   ]
  },
  {
   "cell_type": "code",
   "execution_count": 13,
   "metadata": {},
   "outputs": [
    {
     "name": "stdout",
     "output_type": "stream",
     "text": [
      "Slower     33230\n",
      "Faster     33230\n",
      "Average    33229\n",
      "Name: prey_avg_speed_bin, dtype: int64\n",
      "Slower     33230\n",
      "Faster     33230\n",
      "Average    33229\n",
      "Name: prior_prey_speed_bin, dtype: int64\n"
     ]
    }
   ],
   "source": [
    "# Function to create bins\n",
    "def create_bins(data, column, num_bins = 3):\n",
    "    labels = [\"Slower\", \"Average\", \"Faster\"]\n",
    "    data[f\"{column}_bin\"] = pd.qcut(\n",
    "        x = data[column],\n",
    "        q = num_bins,\n",
    "        labels = labels\n",
    "    )\n",
    "\n",
    "# Columns to bin\n",
    "columns_to_bin = [\n",
    "    \"prey_avg_speed\",\n",
    "    \"prior_prey_speed\"\n",
    "]\n",
    "\n",
    "# Run the function\n",
    "for column in columns_to_bin:\n",
    "    create_bins(data, column)\n",
    "\n",
    "# Print the results\n",
    "columns = [\n",
    "    \"prey_avg_speed_bin\",\n",
    "    \"prior_prey_speed_bin\",\n",
    "]\n",
    "\n",
    "# Print value counts\n",
    "for col in columns:\n",
    "    print(data[col].value_counts())"
   ]
  },
  {
   "cell_type": "markdown",
   "metadata": {},
   "source": [
    "Now, I discretize the following variables using 5 bins :\n",
    "\n",
    "- **variance in speed of the prey group**\n",
    "- **time lag between sessions**\n",
    "- **inter-quantile range for prey speed**"
   ]
  },
  {
   "cell_type": "code",
   "execution_count": 14,
   "metadata": {},
   "outputs": [
    {
     "name": "stdout",
     "output_type": "stream",
     "text": [
      "Q1    19918\n",
      "Q2    19918\n",
      "Q4    19918\n",
      "Q5    19918\n",
      "Q3    19917\n",
      "Name: prey_var_speed_log_bin, dtype: int64\n",
      "Q2    19706\n",
      "Q1    19699\n",
      "Q3    19699\n",
      "Q4    19697\n",
      "Q5    19694\n",
      "Name: time_lag_session_log_bin, dtype: int64\n",
      "Q1    20022\n",
      "Q4    19988\n",
      "Q2    19979\n",
      "Q3    19856\n",
      "Q5    19845\n",
      "Name: iqrange_prey_speed_bin, dtype: int64\n",
      "Q1    22167\n",
      "Q3    20676\n",
      "Q4    19711\n",
      "Q5    19236\n",
      "Q2    17900\n",
      "Name: prey_avg_rank_bin, dtype: int64\n"
     ]
    }
   ],
   "source": [
    "# Function to create bins\n",
    "def create_bins(data, column, num_bins = 5):\n",
    "    labels = [\"Q1\", \"Q2\", \"Q3\", \"Q4\", \"Q5\"]\n",
    "    data[f\"{column}_bin\"] = pd.qcut(\n",
    "        x = data[column],\n",
    "        q = num_bins,\n",
    "        labels = labels\n",
    "    )\n",
    "\n",
    "# Columns to bin\n",
    "columns_to_bin = [\n",
    "    \"prey_var_speed_log\",\n",
    "    \"time_lag_session_log\",\n",
    "    \"iqrange_prey_speed\",\n",
    "    \"prey_avg_rank\"\n",
    "]\n",
    "\n",
    "# Run the function\n",
    "for column in columns_to_bin:\n",
    "    create_bins(data, column)\n",
    "\n",
    "# Print the results\n",
    "columns = [\n",
    "    \"prey_var_speed_log_bin\",\n",
    "    \"time_lag_session_log_bin\",\n",
    "    \"iqrange_prey_speed_bin\",\n",
    "    \"prey_avg_rank_bin\"\n",
    "]\n",
    "\n",
    "# Print value counts\n",
    "for col in columns:\n",
    "    print(data[col].value_counts())"
   ]
  },
  {
   "cell_type": "markdown",
   "metadata": {},
   "source": [
    "#### 4.4.2 Quantile-based with custom criteria"
   ]
  },
  {
   "cell_type": "markdown",
   "metadata": {},
   "source": [
    "I use a custom criteria using the values of the distribution to discretize :\n",
    "\n",
    "- **Predator speed**"
   ]
  },
  {
   "cell_type": "code",
   "execution_count": 15,
   "metadata": {},
   "outputs": [
    {
     "name": "stdout",
     "output_type": "stream",
     "text": [
      "Average    74531\n",
      "Slower     17546\n",
      "Faster      7612\n",
      "Name: pred_speed_bin, dtype: int64\n"
     ]
    }
   ],
   "source": [
    "# Custom bins and labels\n",
    "bins = [min(data[\"pred_speed\"]), 3, 3.8, max(data[\"pred_speed\"])]\n",
    "labels = [\"Slower\", \"Average\", \"Faster\"]\n",
    "\n",
    "# Create bins based on custom criteria\n",
    "data[\"pred_speed_bin\"] = pd.cut(\n",
    "    data[\"pred_speed\"],\n",
    "    bins = bins,\n",
    "    labels = labels\n",
    ")\n",
    "\n",
    "# Print value counts\n",
    "print(data[\"pred_speed_bin\"].value_counts())"
   ]
  },
  {
   "cell_type": "markdown",
   "metadata": {},
   "source": [
    "I use a similar approach for :\n",
    "\n",
    "- **Chases per second**"
   ]
  },
  {
   "cell_type": "code",
   "execution_count": 16,
   "metadata": {},
   "outputs": [
    {
     "name": "stdout",
     "output_type": "stream",
     "text": [
      "Average    51993\n",
      "Low        34677\n",
      "High       12870\n",
      "Name: chases_persec_bin, dtype: int64\n"
     ]
    }
   ],
   "source": [
    "# Custom bins and labels\n",
    "bins = [\n",
    "    min(data[\"chases_persec\"]),\n",
    "    0.025,\n",
    "    0.04,\n",
    "    max(data[\"chases_persec\"])\n",
    "]\n",
    "labels = [\"Low\", \"Average\", \"High\"]\n",
    "\n",
    "# Create bins based on custom criteria\n",
    "data[\"chases_persec_bin\"] = pd.cut(\n",
    "    data[\"chases_persec\"],\n",
    "    bins = bins,\n",
    "    labels = labels\n",
    ")\n",
    "\n",
    "# Print value counts\n",
    "print(data[\"chases_persec_bin\"].value_counts())"
   ]
  },
  {
   "cell_type": "markdown",
   "metadata": {},
   "source": [
    "Same thing for :\n",
    "\n",
    "- **Chases per second in the match before**"
   ]
  },
  {
   "cell_type": "code",
   "execution_count": 17,
   "metadata": {},
   "outputs": [
    {
     "name": "stdout",
     "output_type": "stream",
     "text": [
      "Average    51993\n",
      "Low        34677\n",
      "High       12870\n",
      "Name: prior_chases_persec_bin, dtype: int64\n"
     ]
    }
   ],
   "source": [
    "# Custom bins and labels\n",
    "bins = [\n",
    "    min(data[\"prior_chases_persec\"]),\n",
    "    0.025,\n",
    "    0.04,\n",
    "    max(data[\"prior_chases_persec\"])\n",
    "]\n",
    "labels = [\"Low\", \"Average\", \"High\"]\n",
    "\n",
    "# Create bins based on custom criteria\n",
    "data[\"prior_chases_persec_bin\"] = pd.cut(\n",
    "    data[\"chases_persec\"],\n",
    "    bins = bins,\n",
    "    labels = labels\n",
    ")\n",
    "\n",
    "# Print value counts\n",
    "print(data[\"prior_chases_persec_bin\"].value_counts())"
   ]
  },
  {
   "cell_type": "markdown",
   "metadata": {},
   "source": [
    "### 4.5 Select variables for the Bayesian network\n",
    "\n",
    "I then prepare a filtered dataset that I use to fit the model. I extract only the variables that I will use to build the model structure."
   ]
  },
  {
   "cell_type": "code",
   "execution_count": 18,
   "metadata": {},
   "outputs": [],
   "source": [
    "# Select relevant variables\n",
    "selected_variables = [\n",
    "    \"predator_id\",\n",
    "    \"xp_level\",\n",
    "    \"time_lag_session_log_bin\",\n",
    "    \"pred_speed_bin\",\n",
    "    \"prey_avg_speed_bin\",\n",
    "    \"prey_var_speed_log_bin\",\n",
    "    \"iqrange_prey_speed_bin\",\n",
    "    \"chases_persec_bin\",\n",
    "    \"prey_captured\",\n",
    "    \"prior_chases_persec_bin\",\n",
    "    \"prior_prey_captured\",\n",
    "    \"prior_prey_speed_bin\",\n",
    "    \"prey_avg_rank_bin\"\n",
    "]\n",
    "\n",
    "# Subset the data\n",
    "model_data = data[selected_variables]\n",
    "\n",
    "# Drop the first row for every player ID (NaN)\n",
    "#subset = subset.dropna()"
   ]
  },
  {
   "cell_type": "markdown",
   "metadata": {},
   "source": [
    "Check the model data"
   ]
  },
  {
   "cell_type": "code",
   "execution_count": 19,
   "metadata": {},
   "outputs": [
    {
     "name": "stdout",
     "output_type": "stream",
     "text": [
      "<class 'pandas.core.frame.DataFrame'>\n",
      "Int64Index: 99690 entries, 1 to 100061\n",
      "Data columns (total 13 columns):\n",
      " #   Column                    Non-Null Count  Dtype   \n",
      "---  ------                    --------------  -----   \n",
      " 0   predator_id               99690 non-null  object  \n",
      " 1   xp_level                  99690 non-null  object  \n",
      " 2   time_lag_session_log_bin  98495 non-null  category\n",
      " 3   pred_speed_bin            99689 non-null  category\n",
      " 4   prey_avg_speed_bin        99689 non-null  category\n",
      " 5   prey_var_speed_log_bin    99589 non-null  category\n",
      " 6   iqrange_prey_speed_bin    99690 non-null  category\n",
      " 7   chases_persec_bin         99540 non-null  category\n",
      " 8   prey_captured             99690 non-null  int64   \n",
      " 9   prior_chases_persec_bin   99540 non-null  category\n",
      " 10  prior_prey_captured       99690 non-null  float64 \n",
      " 11  prior_prey_speed_bin      99689 non-null  category\n",
      " 12  prey_avg_rank_bin         99690 non-null  category\n",
      "dtypes: category(9), float64(1), int64(1), object(2)\n",
      "memory usage: 4.7+ MB\n"
     ]
    },
    {
     "data": {
      "text/html": [
       "<div>\n",
       "<style scoped>\n",
       "    .dataframe tbody tr th:only-of-type {\n",
       "        vertical-align: middle;\n",
       "    }\n",
       "\n",
       "    .dataframe tbody tr th {\n",
       "        vertical-align: top;\n",
       "    }\n",
       "\n",
       "    .dataframe thead th {\n",
       "        text-align: right;\n",
       "    }\n",
       "</style>\n",
       "<table border=\"1\" class=\"dataframe\">\n",
       "  <thead>\n",
       "    <tr style=\"text-align: right;\">\n",
       "      <th></th>\n",
       "      <th>predator_id</th>\n",
       "      <th>xp_level</th>\n",
       "      <th>time_lag_session_log_bin</th>\n",
       "      <th>pred_speed_bin</th>\n",
       "      <th>prey_avg_speed_bin</th>\n",
       "      <th>prey_var_speed_log_bin</th>\n",
       "      <th>iqrange_prey_speed_bin</th>\n",
       "      <th>chases_persec_bin</th>\n",
       "      <th>prey_captured</th>\n",
       "      <th>prior_chases_persec_bin</th>\n",
       "      <th>prior_prey_captured</th>\n",
       "      <th>prior_prey_speed_bin</th>\n",
       "      <th>prey_avg_rank_bin</th>\n",
       "    </tr>\n",
       "  </thead>\n",
       "  <tbody>\n",
       "    <tr>\n",
       "      <th>1</th>\n",
       "      <td>pred100494</td>\n",
       "      <td>novice</td>\n",
       "      <td>NaN</td>\n",
       "      <td>Faster</td>\n",
       "      <td>Slower</td>\n",
       "      <td>Q2</td>\n",
       "      <td>Q1</td>\n",
       "      <td>Average</td>\n",
       "      <td>0</td>\n",
       "      <td>Average</td>\n",
       "      <td>0.0</td>\n",
       "      <td>Slower</td>\n",
       "      <td>Q4</td>\n",
       "    </tr>\n",
       "    <tr>\n",
       "      <th>2</th>\n",
       "      <td>pred100494</td>\n",
       "      <td>novice</td>\n",
       "      <td>NaN</td>\n",
       "      <td>Slower</td>\n",
       "      <td>Slower</td>\n",
       "      <td>Q5</td>\n",
       "      <td>Q1</td>\n",
       "      <td>Average</td>\n",
       "      <td>0</td>\n",
       "      <td>Average</td>\n",
       "      <td>0.0</td>\n",
       "      <td>Slower</td>\n",
       "      <td>Q5</td>\n",
       "    </tr>\n",
       "    <tr>\n",
       "      <th>3</th>\n",
       "      <td>pred100494</td>\n",
       "      <td>novice</td>\n",
       "      <td>NaN</td>\n",
       "      <td>Average</td>\n",
       "      <td>Average</td>\n",
       "      <td>Q5</td>\n",
       "      <td>Q1</td>\n",
       "      <td>Low</td>\n",
       "      <td>0</td>\n",
       "      <td>Low</td>\n",
       "      <td>0.0</td>\n",
       "      <td>Slower</td>\n",
       "      <td>Q4</td>\n",
       "    </tr>\n",
       "    <tr>\n",
       "      <th>4</th>\n",
       "      <td>pred100494</td>\n",
       "      <td>novice</td>\n",
       "      <td>NaN</td>\n",
       "      <td>Faster</td>\n",
       "      <td>Slower</td>\n",
       "      <td>Q3</td>\n",
       "      <td>Q1</td>\n",
       "      <td>Low</td>\n",
       "      <td>0</td>\n",
       "      <td>Low</td>\n",
       "      <td>0.0</td>\n",
       "      <td>Average</td>\n",
       "      <td>Q5</td>\n",
       "    </tr>\n",
       "    <tr>\n",
       "      <th>5</th>\n",
       "      <td>pred100494</td>\n",
       "      <td>novice</td>\n",
       "      <td>Q5</td>\n",
       "      <td>Average</td>\n",
       "      <td>Average</td>\n",
       "      <td>Q5</td>\n",
       "      <td>Q1</td>\n",
       "      <td>Low</td>\n",
       "      <td>0</td>\n",
       "      <td>Low</td>\n",
       "      <td>0.0</td>\n",
       "      <td>Slower</td>\n",
       "      <td>Q3</td>\n",
       "    </tr>\n",
       "    <tr>\n",
       "      <th>6</th>\n",
       "      <td>pred100494</td>\n",
       "      <td>novice</td>\n",
       "      <td>Q5</td>\n",
       "      <td>Average</td>\n",
       "      <td>Faster</td>\n",
       "      <td>Q3</td>\n",
       "      <td>Q1</td>\n",
       "      <td>Low</td>\n",
       "      <td>0</td>\n",
       "      <td>Low</td>\n",
       "      <td>0.0</td>\n",
       "      <td>Average</td>\n",
       "      <td>Q3</td>\n",
       "    </tr>\n",
       "    <tr>\n",
       "      <th>7</th>\n",
       "      <td>pred100494</td>\n",
       "      <td>novice</td>\n",
       "      <td>Q5</td>\n",
       "      <td>Average</td>\n",
       "      <td>Average</td>\n",
       "      <td>Q1</td>\n",
       "      <td>Q1</td>\n",
       "      <td>Low</td>\n",
       "      <td>1</td>\n",
       "      <td>Low</td>\n",
       "      <td>0.0</td>\n",
       "      <td>Faster</td>\n",
       "      <td>Q5</td>\n",
       "    </tr>\n",
       "    <tr>\n",
       "      <th>8</th>\n",
       "      <td>pred100494</td>\n",
       "      <td>novice</td>\n",
       "      <td>Q5</td>\n",
       "      <td>Slower</td>\n",
       "      <td>Slower</td>\n",
       "      <td>Q1</td>\n",
       "      <td>Q1</td>\n",
       "      <td>Average</td>\n",
       "      <td>0</td>\n",
       "      <td>Average</td>\n",
       "      <td>1.0</td>\n",
       "      <td>Average</td>\n",
       "      <td>Q5</td>\n",
       "    </tr>\n",
       "    <tr>\n",
       "      <th>9</th>\n",
       "      <td>pred100494</td>\n",
       "      <td>novice</td>\n",
       "      <td>Q5</td>\n",
       "      <td>Average</td>\n",
       "      <td>Slower</td>\n",
       "      <td>Q3</td>\n",
       "      <td>Q1</td>\n",
       "      <td>Low</td>\n",
       "      <td>0</td>\n",
       "      <td>Low</td>\n",
       "      <td>0.0</td>\n",
       "      <td>Slower</td>\n",
       "      <td>Q5</td>\n",
       "    </tr>\n",
       "    <tr>\n",
       "      <th>10</th>\n",
       "      <td>pred100494</td>\n",
       "      <td>novice</td>\n",
       "      <td>Q5</td>\n",
       "      <td>Faster</td>\n",
       "      <td>Faster</td>\n",
       "      <td>Q4</td>\n",
       "      <td>Q1</td>\n",
       "      <td>Low</td>\n",
       "      <td>0</td>\n",
       "      <td>Low</td>\n",
       "      <td>0.0</td>\n",
       "      <td>Slower</td>\n",
       "      <td>Q5</td>\n",
       "    </tr>\n",
       "  </tbody>\n",
       "</table>\n",
       "</div>"
      ],
      "text/plain": [
       "   predator_id xp_level time_lag_session_log_bin pred_speed_bin  \\\n",
       "1   pred100494   novice                      NaN         Faster   \n",
       "2   pred100494   novice                      NaN         Slower   \n",
       "3   pred100494   novice                      NaN        Average   \n",
       "4   pred100494   novice                      NaN         Faster   \n",
       "5   pred100494   novice                       Q5        Average   \n",
       "6   pred100494   novice                       Q5        Average   \n",
       "7   pred100494   novice                       Q5        Average   \n",
       "8   pred100494   novice                       Q5         Slower   \n",
       "9   pred100494   novice                       Q5        Average   \n",
       "10  pred100494   novice                       Q5         Faster   \n",
       "\n",
       "   prey_avg_speed_bin prey_var_speed_log_bin iqrange_prey_speed_bin  \\\n",
       "1              Slower                     Q2                     Q1   \n",
       "2              Slower                     Q5                     Q1   \n",
       "3             Average                     Q5                     Q1   \n",
       "4              Slower                     Q3                     Q1   \n",
       "5             Average                     Q5                     Q1   \n",
       "6              Faster                     Q3                     Q1   \n",
       "7             Average                     Q1                     Q1   \n",
       "8              Slower                     Q1                     Q1   \n",
       "9              Slower                     Q3                     Q1   \n",
       "10             Faster                     Q4                     Q1   \n",
       "\n",
       "   chases_persec_bin  prey_captured prior_chases_persec_bin  \\\n",
       "1            Average              0                 Average   \n",
       "2            Average              0                 Average   \n",
       "3                Low              0                     Low   \n",
       "4                Low              0                     Low   \n",
       "5                Low              0                     Low   \n",
       "6                Low              0                     Low   \n",
       "7                Low              1                     Low   \n",
       "8            Average              0                 Average   \n",
       "9                Low              0                     Low   \n",
       "10               Low              0                     Low   \n",
       "\n",
       "    prior_prey_captured prior_prey_speed_bin prey_avg_rank_bin  \n",
       "1                   0.0               Slower                Q4  \n",
       "2                   0.0               Slower                Q5  \n",
       "3                   0.0               Slower                Q4  \n",
       "4                   0.0              Average                Q5  \n",
       "5                   0.0               Slower                Q3  \n",
       "6                   0.0              Average                Q3  \n",
       "7                   0.0               Faster                Q5  \n",
       "8                   1.0              Average                Q5  \n",
       "9                   0.0               Slower                Q5  \n",
       "10                  0.0               Slower                Q5  "
      ]
     },
     "execution_count": 19,
     "metadata": {},
     "output_type": "execute_result"
    }
   ],
   "source": [
    "model_data.info()\n",
    "model_data.head(n = 10)"
   ]
  },
  {
   "cell_type": "markdown",
   "metadata": {},
   "source": [
    "#### 4.5.1 Store the data\n",
    "\n",
    "I store the model data. I will reuse it to perform k-fold cross-validation."
   ]
  },
  {
   "cell_type": "code",
   "execution_count": 20,
   "metadata": {},
   "outputs": [
    {
     "data": {
      "text/plain": [
       "['/home/graptemys/Documents/GitHub/Chapter3/outputs/BayesNet-model-data.joblib']"
      ]
     },
     "execution_count": 20,
     "metadata": {},
     "output_type": "execute_result"
    }
   ],
   "source": [
    "# Save the output\n",
    "dump(model_data, output_path1)"
   ]
  },
  {
   "cell_type": "markdown",
   "metadata": {},
   "source": [
    "## 5. Build the Bayesian network structure\n",
    "\n",
    "Here, I use my expertise and knowledge of the system to build the network.\n",
    "\n",
    "We suggest a causal model of predator-prey interactions, and we thus build our model based on our beliefs of how the system works.\n",
    "\n",
    "Here is the structure of the model :\n",
    "\n",
    "**Edges for foraging mode**\n",
    "- experience --> foraging mode\n",
    "- time lag --> foraging mode\n",
    "- prior prey speed --> foraging mode\n",
    "- prior success --> foraging mode\n",
    "- prior chase rate --> foraging mode\n",
    "- range of speed encountered --> foraging mode\n",
    "- prey group heterogeneity\n",
    "\n",
    "**Edges for chase rate**\n",
    "- time lag --> chase rate\n",
    "- experience --> chase rate\n",
    "- foraging mode --> chase rate\n",
    "- prey speed --> chase rate\n",
    "- prey group heterogeneity --> chase rate\n",
    "\n",
    "**Edges for prey speed**\n",
    "- foraging mode --> prey speed\n",
    "\n",
    "**Edges for prey capture**\n",
    "- chase rate --> prey capture\n",
    "- foraging mode --> prey capture"
   ]
  },
  {
   "cell_type": "code",
   "execution_count": 21,
   "metadata": {},
   "outputs": [],
   "source": [
    "model = BayesianNetwork(\n",
    "    [\n",
    "        # Edges for hunting type -------------------------------\n",
    "        # Previous experience\n",
    "        (\"prior_chases_persec_bin\", \"pred_speed_bin\"),\n",
    "        (\"prior_prey_captured\", \"pred_speed_bin\"),\n",
    "        (\"prior_prey_speed_bin\", \"pred_speed_bin\"),\n",
    "        (\"iqrange_prey_speed_bin\", \"pred_speed_bin\"),\n",
    "        # Expertise\n",
    "        (\"xp_level\", \"pred_speed_bin\"),\n",
    "        (\"time_lag_session_log_bin\", \"pred_speed_bin\"),\n",
    "        # Direct interaction\n",
    "        (\"prey_var_speed_log_bin\", \"pred_speed_bin\"),\n",
    "        \n",
    "        # Edges for chase rate ---------------------------------\n",
    "        # Expertise\n",
    "        (\"xp_level\", \"chases_persec_bin\"),\n",
    "        (\"time_lag_session_log_bin\", \"chases_persec_bin\"),\n",
    "        # Predator strategy\n",
    "        (\"pred_speed_bin\", \"chases_persec_bin\"),\n",
    "        # Direct interaction\n",
    "        (\"prey_avg_speed_bin\", \"chases_persec_bin\"),\n",
    "        (\"prey_var_speed_log_bin\", \"chases_persec_bin\"),\n",
    "        \n",
    "        # Edges for prey speed ---------------------------------\n",
    "        (\"pred_speed_bin\", \"prey_avg_speed_bin\"),\n",
    "        \n",
    "        # Edges for prey capture -------------------------------\n",
    "        (\"pred_speed_bin\", \"prey_captured\"),\n",
    "        (\"chases_persec_bin\", \"prey_captured\"),\n",
    "        (\"prey_avg_rank_bin\", \"prey_captured\")\n",
    "    ]\n",
    ")"
   ]
  },
  {
   "cell_type": "markdown",
   "metadata": {},
   "source": [
    "## 6. Fit the Bayesian network"
   ]
  },
  {
   "cell_type": "markdown",
   "metadata": {},
   "source": [
    "### 6.1 Parameter learning\n",
    "\n",
    "I remove the predator_id column as it is not used in the model."
   ]
  },
  {
   "cell_type": "code",
   "execution_count": 22,
   "metadata": {},
   "outputs": [],
   "source": [
    "model_data = model_data.drop(\"predator_id\", axis = 1)"
   ]
  },
  {
   "cell_type": "markdown",
   "metadata": {},
   "source": [
    "I fit the model using Bayesian inference and the BDeu prior."
   ]
  },
  {
   "cell_type": "code",
   "execution_count": 23,
   "metadata": {},
   "outputs": [],
   "source": [
    "model.fit(\n",
    "    data = model_data,\n",
    "    estimator = BayesianEstimator,\n",
    "    prior_type = \"BDeu\",\n",
    "    equivalent_sample_size = 5,\n",
    ")"
   ]
  },
  {
   "cell_type": "markdown",
   "metadata": {},
   "source": [
    "### 6.2 Independence test for edges\n",
    "\n",
    "Here, I perform log-likelihood tests to assess conditional independence between the edges.\n",
    "\n",
    "This will allow me to compute the edge strength once I plot the DAG.\n",
    "\n",
    "I will save the dataframe as an output at the end of the notebook."
   ]
  },
  {
   "cell_type": "code",
   "execution_count": 24,
   "metadata": {},
   "outputs": [],
   "source": [
    "# Get the list of all edges in the DAG\n",
    "all_edges = model.edges()\n",
    "\n",
    "# Initialize empty lists to store the results\n",
    "log_likelihoods = []\n",
    "p_values = []\n",
    "degrees_of_freedom = []\n",
    "\n",
    "# Iterate through all combinations of edges\n",
    "for edge in all_edges:\n",
    "    node1, node2 = edge\n",
    "    \n",
    "    # Perform the log likelihood test\n",
    "    test_result = CITests.log_likelihood(\n",
    "        X = node1, Y = node2, Z = [],\n",
    "        data = model_data, boolean = False,\n",
    "        significance_level = 0.05\n",
    "    )\n",
    "    \n",
    "    # Extract log likelihood, p-value, and degrees of freedom\n",
    "    log_likelihood, p_value, df = test_result\n",
    "    \n",
    "    # Append the values to respective lists\n",
    "    log_likelihoods.append(log_likelihood)\n",
    "    p_values.append(p_value)\n",
    "    degrees_of_freedom.append(df)\n",
    "\n",
    "# Create a dataframe from the results\n",
    "results_df = pd.DataFrame({\n",
    "    \"Source_node\": [edge[0] for edge in all_edges],\n",
    "    \"Target_node\": [edge[1] for edge in all_edges],\n",
    "    \"Log_likelihood\": log_likelihoods,\n",
    "    \"P_value\": p_values,\n",
    "    \"Degrees_of_freedom\": degrees_of_freedom\n",
    "})"
   ]
  },
  {
   "cell_type": "markdown",
   "metadata": {},
   "source": [
    "### 6.3 Get the Markov blanket\n",
    "\n",
    "Knowing the Markov blankets for prey capture will enable us to assess the primary variables of the DAG.\n",
    "\n",
    "Once these variables are known, any other additional variable will not improve the information we need to predict prey capture."
   ]
  },
  {
   "cell_type": "code",
   "execution_count": 25,
   "metadata": {},
   "outputs": [
    {
     "name": "stdout",
     "output_type": "stream",
     "text": [
      "Markov Blanket for 'prey_captured':\n",
      "pred_speed_bin\n",
      "chases_persec_bin\n",
      "prey_avg_rank_bin\n"
     ]
    }
   ],
   "source": [
    "markov_blanket = model.get_markov_blanket(\"prey_captured\")\n",
    "\n",
    "print(\"Markov Blanket for 'prey_captured':\")\n",
    "for item in markov_blanket:\n",
    "    print(item)"
   ]
  },
  {
   "cell_type": "markdown",
   "metadata": {},
   "source": [
    "## 7. Save the objects"
   ]
  },
  {
   "cell_type": "markdown",
   "metadata": {},
   "source": [
    "### 7.1 Save the model object"
   ]
  },
  {
   "cell_type": "code",
   "execution_count": 26,
   "metadata": {},
   "outputs": [
    {
     "data": {
      "text/plain": [
       "['/home/graptemys/Documents/GitHub/Chapter3/outputs/BayesNet-fit.joblib']"
      ]
     },
     "execution_count": 26,
     "metadata": {},
     "output_type": "execute_result"
    }
   ],
   "source": [
    "# Save the output\n",
    "dump(model, output_path2)"
   ]
  },
  {
   "cell_type": "markdown",
   "metadata": {},
   "source": [
    "### 7.2 Save the independence tests object"
   ]
  },
  {
   "cell_type": "code",
   "execution_count": 27,
   "metadata": {},
   "outputs": [
    {
     "data": {
      "text/plain": [
       "['/home/graptemys/Documents/GitHub/Chapter3/outputs/BayesNet-IndTests.joblib']"
      ]
     },
     "execution_count": 27,
     "metadata": {},
     "output_type": "execute_result"
    }
   ],
   "source": [
    "# Save the output\n",
    "dump(results_df, output_path3)"
   ]
  }
 ],
 "metadata": {
  "kernelspec": {
   "display_name": ".venv",
   "language": "python",
   "name": "python3"
  },
  "language_info": {
   "codemirror_mode": {
    "name": "ipython",
    "version": 3
   },
   "file_extension": ".py",
   "mimetype": "text/x-python",
   "name": "python",
   "nbconvert_exporter": "python",
   "pygments_lexer": "ipython3",
   "version": "3.10.12"
  }
 },
 "nbformat": 4,
 "nbformat_minor": 2
}
