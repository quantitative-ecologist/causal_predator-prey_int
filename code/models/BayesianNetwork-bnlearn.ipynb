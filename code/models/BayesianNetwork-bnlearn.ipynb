{
 "cells": [
  {
   "cell_type": "markdown",
   "metadata": {},
   "source": [
    "# Bayesian network model of predator-prey interactions"
   ]
  },
  {
   "cell_type": "markdown",
   "metadata": {},
   "source": [
    "## 1. Description"
   ]
  },
  {
   "cell_type": "markdown",
   "metadata": {},
   "source": [
    "Here, I build a Bayesian network implementation of the DAG where there is no feedback between the predator and the prey's behavior within a match.\n",
    "\n",
    "Our objective is to use causal inference to model the predator-prey interaction as it changes throughout the predator's experience. Our DAG explains how we expect the system to work."
   ]
  },
  {
   "cell_type": "markdown",
   "metadata": {},
   "source": [
    "## 2. Prepare the session"
   ]
  },
  {
   "cell_type": "markdown",
   "metadata": {},
   "source": [
    "I start by importing the librairies that I'll need to build the network."
   ]
  },
  {
   "cell_type": "code",
   "execution_count": 1,
   "metadata": {},
   "outputs": [],
   "source": [
    "# For Bayesian networks\n",
    "import bnlearn as bn\n",
    "\n",
    "# For data manipulations\n",
    "from pathlib import Path\n",
    "import pandas as pd\n",
    "import numpy as np"
   ]
  },
  {
   "cell_type": "markdown",
   "metadata": {},
   "source": [
    "## 3. Import the data"
   ]
  },
  {
   "cell_type": "markdown",
   "metadata": {},
   "source": [
    "I import the data to build the network."
   ]
  },
  {
   "cell_type": "code",
   "execution_count": 2,
   "metadata": {},
   "outputs": [],
   "source": [
    "# Specify the parent folder\n",
    "notebook_dir = Path.cwd()\n",
    "parent_folder = notebook_dir.parent.parent\n",
    "\n",
    "# Data path\n",
    "data_subfolder = \"data\"\n",
    "file_name = \"FraserFranco-etal-XXXX.csv\"\n",
    "\n",
    "# Full path to data file\n",
    "file_path = parent_folder / data_subfolder / file_name\n",
    "\n",
    "# Import dataset\n",
    "dat = pd.read_csv(file_path, index_col = None)"
   ]
  },
  {
   "cell_type": "markdown",
   "metadata": {},
   "source": [
    "### 3.1 Visualize the data structure"
   ]
  },
  {
   "cell_type": "markdown",
   "metadata": {},
   "source": [
    "Let's start by checking the data"
   ]
  },
  {
   "cell_type": "code",
   "execution_count": 3,
   "metadata": {},
   "outputs": [
    {
     "data": {
      "text/html": [
       "<div>\n",
       "<style scoped>\n",
       "    .dataframe tbody tr th:only-of-type {\n",
       "        vertical-align: middle;\n",
       "    }\n",
       "\n",
       "    .dataframe tbody tr th {\n",
       "        vertical-align: top;\n",
       "    }\n",
       "\n",
       "    .dataframe thead th {\n",
       "        text-align: right;\n",
       "    }\n",
       "</style>\n",
       "<table border=\"1\" class=\"dataframe\">\n",
       "  <thead>\n",
       "    <tr style=\"text-align: right;\">\n",
       "      <th></th>\n",
       "      <th>match_id</th>\n",
       "      <th>predator_id</th>\n",
       "      <th>xp_level</th>\n",
       "      <th>timestamp</th>\n",
       "      <th>game_mode</th>\n",
       "      <th>realm_id</th>\n",
       "      <th>environment_id</th>\n",
       "      <th>avatar_id</th>\n",
       "      <th>game_duration</th>\n",
       "      <th>prey_avg_rank</th>\n",
       "      <th>...</th>\n",
       "      <th>predicted_mean_speed</th>\n",
       "      <th>predicted_sigma_speed</th>\n",
       "      <th>cluster</th>\n",
       "      <th>hunting_type</th>\n",
       "      <th>chase_count</th>\n",
       "      <th>chase_count_success</th>\n",
       "      <th>attacks_count</th>\n",
       "      <th>prey_avg_heal_count</th>\n",
       "      <th>prey_var_heal_count</th>\n",
       "      <th>chase_success_ratio</th>\n",
       "    </tr>\n",
       "  </thead>\n",
       "  <tbody>\n",
       "    <tr>\n",
       "      <th>0</th>\n",
       "      <td>002W3HHO</td>\n",
       "      <td>pred558338</td>\n",
       "      <td>interm</td>\n",
       "      <td>2021-01-14 22:33:06</td>\n",
       "      <td>Online</td>\n",
       "      <td>The Macmillan Estate</td>\n",
       "      <td>Suffocation Pit</td>\n",
       "      <td>Spirit</td>\n",
       "      <td>523.008972</td>\n",
       "      <td>5.50</td>\n",
       "      <td>...</td>\n",
       "      <td>-0.092314</td>\n",
       "      <td>0.283652</td>\n",
       "      <td>1</td>\n",
       "      <td>ambush-flexible</td>\n",
       "      <td>17</td>\n",
       "      <td>8</td>\n",
       "      <td>17</td>\n",
       "      <td>2.250000</td>\n",
       "      <td>2.916667</td>\n",
       "      <td>0.470588</td>\n",
       "    </tr>\n",
       "    <tr>\n",
       "      <th>1</th>\n",
       "      <td>005QEKAB</td>\n",
       "      <td>pred390909</td>\n",
       "      <td>novice</td>\n",
       "      <td>2020-12-30 09:14:30</td>\n",
       "      <td>Online</td>\n",
       "      <td>Backwater Swamp</td>\n",
       "      <td>The Pale Rose</td>\n",
       "      <td>Trapper</td>\n",
       "      <td>802.905701</td>\n",
       "      <td>4.50</td>\n",
       "      <td>...</td>\n",
       "      <td>-0.109873</td>\n",
       "      <td>0.286322</td>\n",
       "      <td>1</td>\n",
       "      <td>ambush-flexible</td>\n",
       "      <td>27</td>\n",
       "      <td>7</td>\n",
       "      <td>17</td>\n",
       "      <td>2.666667</td>\n",
       "      <td>4.333333</td>\n",
       "      <td>0.259259</td>\n",
       "    </tr>\n",
       "    <tr>\n",
       "      <th>2</th>\n",
       "      <td>00ATEFT5</td>\n",
       "      <td>pred389952</td>\n",
       "      <td>advanced</td>\n",
       "      <td>2021-04-25 11:57:02</td>\n",
       "      <td>Online</td>\n",
       "      <td>The Macmillan Estate</td>\n",
       "      <td>Suffocation Pit</td>\n",
       "      <td>Oni</td>\n",
       "      <td>693.849854</td>\n",
       "      <td>4.25</td>\n",
       "      <td>...</td>\n",
       "      <td>0.032009</td>\n",
       "      <td>-0.138640</td>\n",
       "      <td>1</td>\n",
       "      <td>intercepting-intermediate</td>\n",
       "      <td>30</td>\n",
       "      <td>6</td>\n",
       "      <td>11</td>\n",
       "      <td>3.750000</td>\n",
       "      <td>10.916667</td>\n",
       "      <td>0.200000</td>\n",
       "    </tr>\n",
       "    <tr>\n",
       "      <th>3</th>\n",
       "      <td>00BQMP7T</td>\n",
       "      <td>pred35544</td>\n",
       "      <td>advanced</td>\n",
       "      <td>2021-03-17 03:01:23</td>\n",
       "      <td>Online</td>\n",
       "      <td>Léry's Memorial Institute</td>\n",
       "      <td>Treatment Theatre</td>\n",
       "      <td>Executioner</td>\n",
       "      <td>907.008728</td>\n",
       "      <td>8.50</td>\n",
       "      <td>...</td>\n",
       "      <td>0.024512</td>\n",
       "      <td>-0.061111</td>\n",
       "      <td>1</td>\n",
       "      <td>intercepting-intermediate</td>\n",
       "      <td>20</td>\n",
       "      <td>8</td>\n",
       "      <td>11</td>\n",
       "      <td>2.500000</td>\n",
       "      <td>13.666667</td>\n",
       "      <td>0.400000</td>\n",
       "    </tr>\n",
       "    <tr>\n",
       "      <th>4</th>\n",
       "      <td>00CQOXUD</td>\n",
       "      <td>pred199640</td>\n",
       "      <td>novice</td>\n",
       "      <td>2020-12-15 10:42:03</td>\n",
       "      <td>Online</td>\n",
       "      <td>Autohaven Wreckers</td>\n",
       "      <td>Blood Lodge</td>\n",
       "      <td>Hillbilly</td>\n",
       "      <td>605.748718</td>\n",
       "      <td>15.00</td>\n",
       "      <td>...</td>\n",
       "      <td>-0.009210</td>\n",
       "      <td>0.140301</td>\n",
       "      <td>3</td>\n",
       "      <td>intercepting-intermediate</td>\n",
       "      <td>24</td>\n",
       "      <td>6</td>\n",
       "      <td>12</td>\n",
       "      <td>3.500000</td>\n",
       "      <td>20.333333</td>\n",
       "      <td>0.250000</td>\n",
       "    </tr>\n",
       "  </tbody>\n",
       "</table>\n",
       "<p>5 rows × 26 columns</p>\n",
       "</div>"
      ],
      "text/plain": [
       "   match_id predator_id  xp_level            timestamp game_mode  \\\n",
       "0  002W3HHO  pred558338    interm  2021-01-14 22:33:06    Online   \n",
       "1  005QEKAB  pred390909    novice  2020-12-30 09:14:30    Online   \n",
       "2  00ATEFT5  pred389952  advanced  2021-04-25 11:57:02    Online   \n",
       "3  00BQMP7T   pred35544  advanced  2021-03-17 03:01:23    Online   \n",
       "4  00CQOXUD  pred199640    novice  2020-12-15 10:42:03    Online   \n",
       "\n",
       "                    realm_id     environment_id    avatar_id  game_duration  \\\n",
       "0       The Macmillan Estate    Suffocation Pit       Spirit     523.008972   \n",
       "1            Backwater Swamp      The Pale Rose      Trapper     802.905701   \n",
       "2       The Macmillan Estate    Suffocation Pit          Oni     693.849854   \n",
       "3  Léry's Memorial Institute  Treatment Theatre  Executioner     907.008728   \n",
       "4         Autohaven Wreckers        Blood Lodge    Hillbilly     605.748718   \n",
       "\n",
       "   prey_avg_rank  ...  predicted_mean_speed  predicted_sigma_speed  cluster  \\\n",
       "0           5.50  ...             -0.092314               0.283652        1   \n",
       "1           4.50  ...             -0.109873               0.286322        1   \n",
       "2           4.25  ...              0.032009              -0.138640        1   \n",
       "3           8.50  ...              0.024512              -0.061111        1   \n",
       "4          15.00  ...             -0.009210               0.140301        3   \n",
       "\n",
       "                hunting_type  chase_count  chase_count_success  attacks_count  \\\n",
       "0            ambush-flexible           17                    8             17   \n",
       "1            ambush-flexible           27                    7             17   \n",
       "2  intercepting-intermediate           30                    6             11   \n",
       "3  intercepting-intermediate           20                    8             11   \n",
       "4  intercepting-intermediate           24                    6             12   \n",
       "\n",
       "   prey_avg_heal_count  prey_var_heal_count chase_success_ratio  \n",
       "0             2.250000             2.916667            0.470588  \n",
       "1             2.666667             4.333333            0.259259  \n",
       "2             3.750000            10.916667            0.200000  \n",
       "3             2.500000            13.666667            0.400000  \n",
       "4             3.500000            20.333333            0.250000  \n",
       "\n",
       "[5 rows x 26 columns]"
      ]
     },
     "execution_count": 3,
     "metadata": {},
     "output_type": "execute_result"
    }
   ],
   "source": [
    "dat.head()"
   ]
  },
  {
   "cell_type": "code",
   "execution_count": 4,
   "metadata": {},
   "outputs": [
    {
     "name": "stdout",
     "output_type": "stream",
     "text": [
      "<class 'pandas.core.frame.DataFrame'>\n",
      "RangeIndex: 100062 entries, 0 to 100061\n",
      "Data columns (total 26 columns):\n",
      " #   Column                 Non-Null Count   Dtype  \n",
      "---  ------                 --------------   -----  \n",
      " 0   match_id               100062 non-null  object \n",
      " 1   predator_id            100062 non-null  object \n",
      " 2   xp_level               100062 non-null  object \n",
      " 3   timestamp              100062 non-null  object \n",
      " 4   game_mode              100062 non-null  object \n",
      " 5   realm_id               100062 non-null  object \n",
      " 6   environment_id         100062 non-null  object \n",
      " 7   avatar_id              100062 non-null  object \n",
      " 8   game_duration          100062 non-null  float64\n",
      " 9   prey_avg_rank          100062 non-null  float64\n",
      " 10  total_xp_pred          100062 non-null  int64  \n",
      " 11  cumul_xp_pred          100062 non-null  int64  \n",
      " 12  hunting_success        100062 non-null  int64  \n",
      " 13  points_predator        100062 non-null  int64  \n",
      " 14  pred_speed             100062 non-null  float64\n",
      " 15  prey_avg_speed         100061 non-null  float64\n",
      " 16  predicted_mean_speed   100062 non-null  float64\n",
      " 17  predicted_sigma_speed  100062 non-null  float64\n",
      " 18  cluster                100062 non-null  int64  \n",
      " 19  hunting_type           100062 non-null  object \n",
      " 20  chase_count            100062 non-null  int64  \n",
      " 21  chase_count_success    100062 non-null  int64  \n",
      " 22  attacks_count          100062 non-null  int64  \n",
      " 23  prey_avg_heal_count    100061 non-null  float64\n",
      " 24  prey_var_heal_count    99959 non-null   float64\n",
      " 25  chase_success_ratio    99912 non-null   float64\n",
      "dtypes: float64(9), int64(8), object(9)\n",
      "memory usage: 19.8+ MB\n"
     ]
    }
   ],
   "source": [
    "dat.info()"
   ]
  },
  {
   "cell_type": "code",
   "execution_count": 5,
   "metadata": {},
   "outputs": [
    {
     "name": "stdout",
     "output_type": "stream",
     "text": [
      "Colum names: Index(['match_id', 'predator_id', 'xp_level', 'timestamp', 'game_mode',\n",
      "       'realm_id', 'environment_id', 'avatar_id', 'game_duration',\n",
      "       'prey_avg_rank', 'total_xp_pred', 'cumul_xp_pred', 'hunting_success',\n",
      "       'points_predator', 'pred_speed', 'prey_avg_speed',\n",
      "       'predicted_mean_speed', 'predicted_sigma_speed', 'cluster',\n",
      "       'hunting_type', 'chase_count', 'chase_count_success', 'attacks_count',\n",
      "       'prey_avg_heal_count', 'prey_var_heal_count', 'chase_success_ratio'],\n",
      "      dtype='object')\n"
     ]
    }
   ],
   "source": [
    "print(\"Colum names:\", dat.columns)"
   ]
  },
  {
   "cell_type": "markdown",
   "metadata": {},
   "source": [
    "## 4. Build a simple Bayesian network"
   ]
  },
  {
   "cell_type": "markdown",
   "metadata": {},
   "source": [
    "Here, I use my expertise and knowledge of the system to build the network. In this manuscript, we suggest a causal model of predator-prey interactions, and we thus build our model based on our beliefs on how the system works."
   ]
  },
  {
   "cell_type": "markdown",
   "metadata": {},
   "source": [
    "### 4.1 Select variables for the Bayesian network\n",
    "\n",
    "I start by subsetting the variables that I will use for the model."
   ]
  },
  {
   "cell_type": "code",
   "execution_count": 6,
   "metadata": {},
   "outputs": [
    {
     "data": {
      "text/html": [
       "<div>\n",
       "<style scoped>\n",
       "    .dataframe tbody tr th:only-of-type {\n",
       "        vertical-align: middle;\n",
       "    }\n",
       "\n",
       "    .dataframe tbody tr th {\n",
       "        vertical-align: top;\n",
       "    }\n",
       "\n",
       "    .dataframe thead th {\n",
       "        text-align: right;\n",
       "    }\n",
       "</style>\n",
       "<table border=\"1\" class=\"dataframe\">\n",
       "  <thead>\n",
       "    <tr style=\"text-align: right;\">\n",
       "      <th></th>\n",
       "      <th>xp_level</th>\n",
       "      <th>hunting_type</th>\n",
       "      <th>hunting_success</th>\n",
       "    </tr>\n",
       "  </thead>\n",
       "  <tbody>\n",
       "    <tr>\n",
       "      <th>0</th>\n",
       "      <td>interm</td>\n",
       "      <td>ambush-flexible</td>\n",
       "      <td>4</td>\n",
       "    </tr>\n",
       "    <tr>\n",
       "      <th>1</th>\n",
       "      <td>novice</td>\n",
       "      <td>ambush-flexible</td>\n",
       "      <td>1</td>\n",
       "    </tr>\n",
       "    <tr>\n",
       "      <th>2</th>\n",
       "      <td>advanced</td>\n",
       "      <td>intercepting-intermediate</td>\n",
       "      <td>0</td>\n",
       "    </tr>\n",
       "    <tr>\n",
       "      <th>3</th>\n",
       "      <td>advanced</td>\n",
       "      <td>intercepting-intermediate</td>\n",
       "      <td>4</td>\n",
       "    </tr>\n",
       "    <tr>\n",
       "      <th>4</th>\n",
       "      <td>novice</td>\n",
       "      <td>intercepting-intermediate</td>\n",
       "      <td>2</td>\n",
       "    </tr>\n",
       "    <tr>\n",
       "      <th>...</th>\n",
       "      <td>...</td>\n",
       "      <td>...</td>\n",
       "      <td>...</td>\n",
       "    </tr>\n",
       "    <tr>\n",
       "      <th>100057</th>\n",
       "      <td>interm</td>\n",
       "      <td>intercepting-intermediate</td>\n",
       "      <td>3</td>\n",
       "    </tr>\n",
       "    <tr>\n",
       "      <th>100058</th>\n",
       "      <td>advanced</td>\n",
       "      <td>cursorial-specialist</td>\n",
       "      <td>1</td>\n",
       "    </tr>\n",
       "    <tr>\n",
       "      <th>100059</th>\n",
       "      <td>interm</td>\n",
       "      <td>intercepting-intermediate</td>\n",
       "      <td>2</td>\n",
       "    </tr>\n",
       "    <tr>\n",
       "      <th>100060</th>\n",
       "      <td>interm</td>\n",
       "      <td>cursorial-specialist</td>\n",
       "      <td>2</td>\n",
       "    </tr>\n",
       "    <tr>\n",
       "      <th>100061</th>\n",
       "      <td>novice</td>\n",
       "      <td>intercepting-intermediate</td>\n",
       "      <td>4</td>\n",
       "    </tr>\n",
       "  </tbody>\n",
       "</table>\n",
       "<p>100062 rows × 3 columns</p>\n",
       "</div>"
      ],
      "text/plain": [
       "        xp_level               hunting_type  hunting_success\n",
       "0         interm            ambush-flexible                4\n",
       "1         novice            ambush-flexible                1\n",
       "2       advanced  intercepting-intermediate                0\n",
       "3       advanced  intercepting-intermediate                4\n",
       "4         novice  intercepting-intermediate                2\n",
       "...          ...                        ...              ...\n",
       "100057    interm  intercepting-intermediate                3\n",
       "100058  advanced       cursorial-specialist                1\n",
       "100059    interm  intercepting-intermediate                2\n",
       "100060    interm       cursorial-specialist                2\n",
       "100061    novice  intercepting-intermediate                4\n",
       "\n",
       "[100062 rows x 3 columns]"
      ]
     },
     "execution_count": 6,
     "metadata": {},
     "output_type": "execute_result"
    }
   ],
   "source": [
    "# Select relevant variables\n",
    "selected_variables = [\n",
    "    \"xp_level\",\n",
    "    \"hunting_type\",\n",
    "    \"hunting_success\"\n",
    "]\n",
    "\n",
    "# Subset the data\n",
    "subset = dat[selected_variables]\n",
    "subset"
   ]
  },
  {
   "cell_type": "markdown",
   "metadata": {},
   "source": [
    "### 4.2 Build the Bayesian network structure\n",
    "\n",
    "Here, I build the relationships (edges) between the variables (nodes).\n",
    "\n",
    "The model goes like this :\n",
    "\n",
    "experience --> hunting type --> hunting success"
   ]
  },
  {
   "cell_type": "code",
   "execution_count": null,
   "metadata": {},
   "outputs": [],
   "source": [
    "edges = [\n",
    "    (\"xp_level\", \"hunting_type\"),\n",
    "    (\"hunting_type\", \"hunting_success\")\n",
    "]"
   ]
  }
 ],
 "metadata": {
  "kernelspec": {
   "display_name": ".venv",
   "language": "python",
   "name": "python3"
  },
  "language_info": {
   "codemirror_mode": {
    "name": "ipython",
    "version": 3
   },
   "file_extension": ".py",
   "mimetype": "text/x-python",
   "name": "python",
   "nbconvert_exporter": "python",
   "pygments_lexer": "ipython3",
   "version": "3.10.12"
  }
 },
 "nbformat": 4,
 "nbformat_minor": 2
}
