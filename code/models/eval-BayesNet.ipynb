{
 "cells": [
  {
   "cell_type": "markdown",
   "metadata": {},
   "source": [
    "## Evaluate the the Bayesian network"
   ]
  },
  {
   "cell_type": "code",
   "execution_count": null,
   "metadata": {},
   "outputs": [],
   "source": [
    "# To manipulate the model object\n",
    "import bnlearn as bn\n",
    "\n",
    "# To import the model\n",
    "from joblib import load\n",
    "import os\n",
    "\n",
    "# Define the parent directory\n",
    "parent_dir = os.path.abspath(\n",
    "    os.path.join(os.getcwd(), os.pardir, os.pardir)\n",
    ")\n",
    "\n",
    "# Define the subfolder directory\n",
    "output_folder = os.path.join(\n",
    "    parent_dir, \"outputs\"\n",
    ")\n",
    "\n",
    "# Name of the model output file\n",
    "file_name = \"BayesNet-fit.joblib\"\n",
    "\n",
    "# Create the full path\n",
    "output_path = os.path.join(\n",
    "    output_folder, file_name\n",
    "\n",
    ")\n",
    "\n",
    "DAG = load(output_path)"
   ]
  },
  {
   "cell_type": "markdown",
   "metadata": {},
   "source": [
    "## Predict based on the testing data"
   ]
  }
 ],
 "metadata": {
  "language_info": {
   "name": "python"
  }
 },
 "nbformat": 4,
 "nbformat_minor": 2
}
