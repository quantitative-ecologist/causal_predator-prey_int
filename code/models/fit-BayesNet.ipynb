{
 "cells": [
  {
   "cell_type": "markdown",
   "metadata": {},
   "source": [
    "# Bayesian network model of predator-prey interactions"
   ]
  },
  {
   "cell_type": "markdown",
   "metadata": {},
   "source": [
    "## 1. Description"
   ]
  },
  {
   "cell_type": "markdown",
   "metadata": {},
   "source": [
    "Here, I build a Bayesian network implementation of the DAG where there is no feedback between the predator and the prey's behavior within a match.\n",
    "\n",
    "Our objective is to use causal inference to model the predator-prey interaction as it changes throughout the predator's experience. Our DAG explains how we expect the system to work."
   ]
  },
  {
   "cell_type": "markdown",
   "metadata": {},
   "source": [
    "## 2. Prepare the session"
   ]
  },
  {
   "cell_type": "markdown",
   "metadata": {},
   "source": [
    "I start by importing the librairies that I'll need to build the network."
   ]
  },
  {
   "cell_type": "code",
   "execution_count": 27,
   "metadata": {},
   "outputs": [],
   "source": [
    "# For Bayesian networks\n",
    "import bnlearn as bn\n",
    "\n",
    "# For cross validation\n",
    "from sklearn.model_selection import train_test_split\n",
    "\n",
    "# For data manipulations\n",
    "from pathlib import Path\n",
    "import pandas as pd\n",
    "import numpy as np"
   ]
  },
  {
   "cell_type": "markdown",
   "metadata": {},
   "source": [
    "I also define the path to the \"outputs\" folder of the project to save the trained model and the testing data."
   ]
  },
  {
   "cell_type": "code",
   "execution_count": 28,
   "metadata": {},
   "outputs": [],
   "source": [
    "from joblib import dump\n",
    "import os\n",
    "\n",
    "# Define the parent directory\n",
    "parent_dir = os.path.abspath(\n",
    "    os.path.join(os.getcwd(), os.pardir, os.pardir)\n",
    ")\n",
    "\n",
    "# Define the subfolder directory\n",
    "output_folder = os.path.join(\n",
    "    parent_dir, \"outputs\"\n",
    ")\n",
    "\n",
    "# Name of the outpout files\n",
    "file_name1 = \"test-data.joblib\"\n",
    "file_name2 = \"BayesNet-fit.joblib\"\n",
    "\n",
    "# Create the full path\n",
    "output_path1 = os.path.join(\n",
    "    output_folder, file_name1\n",
    "\n",
    ")\n",
    "output_path2 = os.path.join(\n",
    "    output_folder, file_name2\n",
    "\n",
    ")"
   ]
  },
  {
   "cell_type": "markdown",
   "metadata": {},
   "source": [
    "## 3. Import the data"
   ]
  },
  {
   "cell_type": "markdown",
   "metadata": {},
   "source": [
    "I import the data to build the network."
   ]
  },
  {
   "cell_type": "code",
   "execution_count": 29,
   "metadata": {},
   "outputs": [],
   "source": [
    "# Specify the parent folder\n",
    "notebook_dir = Path.cwd()\n",
    "parent_folder = notebook_dir.parent.parent\n",
    "\n",
    "# Data path\n",
    "data_subfolder = \"data\"\n",
    "file_name = \"FraserFranco-etal-XXXX.csv\"\n",
    "\n",
    "# Full path to data file\n",
    "file_path = parent_folder / data_subfolder / file_name\n",
    "\n",
    "# Import dataset\n",
    "dat = pd.read_csv(file_path, index_col = None)"
   ]
  },
  {
   "cell_type": "markdown",
   "metadata": {},
   "source": [
    "### 3.1 Visualize the data structure"
   ]
  },
  {
   "cell_type": "markdown",
   "metadata": {},
   "source": [
    "Let's start by checking the data"
   ]
  },
  {
   "cell_type": "code",
   "execution_count": 30,
   "metadata": {},
   "outputs": [
    {
     "data": {
      "text/html": [
       "<div>\n",
       "<style scoped>\n",
       "    .dataframe tbody tr th:only-of-type {\n",
       "        vertical-align: middle;\n",
       "    }\n",
       "\n",
       "    .dataframe tbody tr th {\n",
       "        vertical-align: top;\n",
       "    }\n",
       "\n",
       "    .dataframe thead th {\n",
       "        text-align: right;\n",
       "    }\n",
       "</style>\n",
       "<table border=\"1\" class=\"dataframe\">\n",
       "  <thead>\n",
       "    <tr style=\"text-align: right;\">\n",
       "      <th></th>\n",
       "      <th>match_id</th>\n",
       "      <th>predator_id</th>\n",
       "      <th>xp_level</th>\n",
       "      <th>timestamp</th>\n",
       "      <th>game_mode</th>\n",
       "      <th>realm_id</th>\n",
       "      <th>environment_id</th>\n",
       "      <th>avatar_id</th>\n",
       "      <th>game_duration</th>\n",
       "      <th>prey_avg_rank</th>\n",
       "      <th>...</th>\n",
       "      <th>chase_count</th>\n",
       "      <th>chase_count_success</th>\n",
       "      <th>attacks_count</th>\n",
       "      <th>prey_avg_heal_count</th>\n",
       "      <th>prey_var_heal_count</th>\n",
       "      <th>chase_success_ratio</th>\n",
       "      <th>prior_prey_speed</th>\n",
       "      <th>prior_prey_heal</th>\n",
       "      <th>prior_success</th>\n",
       "      <th>time_lag</th>\n",
       "    </tr>\n",
       "  </thead>\n",
       "  <tbody>\n",
       "    <tr>\n",
       "      <th>0</th>\n",
       "      <td>DHCF1PHC</td>\n",
       "      <td>pred100494</td>\n",
       "      <td>novice</td>\n",
       "      <td>2021-01-02 14:47:16</td>\n",
       "      <td>Online</td>\n",
       "      <td>Yamaoka Estate</td>\n",
       "      <td>Family Residence</td>\n",
       "      <td>Wraith</td>\n",
       "      <td>399.848999</td>\n",
       "      <td>11.75</td>\n",
       "      <td>...</td>\n",
       "      <td>5</td>\n",
       "      <td>1</td>\n",
       "      <td>2</td>\n",
       "      <td>1.25</td>\n",
       "      <td>3.583333</td>\n",
       "      <td>0.2</td>\n",
       "      <td>NaN</td>\n",
       "      <td>NaN</td>\n",
       "      <td>NaN</td>\n",
       "      <td>NaN</td>\n",
       "    </tr>\n",
       "    <tr>\n",
       "      <th>1</th>\n",
       "      <td>BHJFA1I0</td>\n",
       "      <td>pred100494</td>\n",
       "      <td>novice</td>\n",
       "      <td>2021-01-02 14:57:02</td>\n",
       "      <td>Online</td>\n",
       "      <td>The Macmillan Estate</td>\n",
       "      <td>Groaning Storehouse</td>\n",
       "      <td>Wraith</td>\n",
       "      <td>319.134979</td>\n",
       "      <td>11.75</td>\n",
       "      <td>...</td>\n",
       "      <td>8</td>\n",
       "      <td>0</td>\n",
       "      <td>0</td>\n",
       "      <td>0.00</td>\n",
       "      <td>0.000000</td>\n",
       "      <td>0.0</td>\n",
       "      <td>2.129557</td>\n",
       "      <td>1.25</td>\n",
       "      <td>0.0</td>\n",
       "      <td>9.766133</td>\n",
       "    </tr>\n",
       "    <tr>\n",
       "      <th>2</th>\n",
       "      <td>PMM9CDDR</td>\n",
       "      <td>pred100494</td>\n",
       "      <td>novice</td>\n",
       "      <td>2021-01-02 15:08:18</td>\n",
       "      <td>Online</td>\n",
       "      <td>Silent Hill</td>\n",
       "      <td>Midwich Elementary School</td>\n",
       "      <td>Doctor</td>\n",
       "      <td>687.513123</td>\n",
       "      <td>15.25</td>\n",
       "      <td>...</td>\n",
       "      <td>19</td>\n",
       "      <td>0</td>\n",
       "      <td>6</td>\n",
       "      <td>1.75</td>\n",
       "      <td>0.916667</td>\n",
       "      <td>0.0</td>\n",
       "      <td>2.278671</td>\n",
       "      <td>0.00</td>\n",
       "      <td>0.0</td>\n",
       "      <td>11.271783</td>\n",
       "    </tr>\n",
       "    <tr>\n",
       "      <th>3</th>\n",
       "      <td>3NT75SH7</td>\n",
       "      <td>pred100494</td>\n",
       "      <td>novice</td>\n",
       "      <td>2021-01-02 15:30:29</td>\n",
       "      <td>Online</td>\n",
       "      <td>Autohaven Wreckers</td>\n",
       "      <td>Blood Lodge</td>\n",
       "      <td>Huntress</td>\n",
       "      <td>528.620361</td>\n",
       "      <td>11.25</td>\n",
       "      <td>...</td>\n",
       "      <td>11</td>\n",
       "      <td>0</td>\n",
       "      <td>7</td>\n",
       "      <td>1.75</td>\n",
       "      <td>1.583333</td>\n",
       "      <td>0.0</td>\n",
       "      <td>1.962961</td>\n",
       "      <td>1.75</td>\n",
       "      <td>0.0</td>\n",
       "      <td>22.176050</td>\n",
       "    </tr>\n",
       "    <tr>\n",
       "      <th>4</th>\n",
       "      <td>MNL0ZWA5</td>\n",
       "      <td>pred100494</td>\n",
       "      <td>novice</td>\n",
       "      <td>2021-01-02 15:46:26</td>\n",
       "      <td>Online</td>\n",
       "      <td>Grave of Glenvale</td>\n",
       "      <td>Dead Dawg Saloon</td>\n",
       "      <td>Hillbilly</td>\n",
       "      <td>409.839844</td>\n",
       "      <td>14.50</td>\n",
       "      <td>...</td>\n",
       "      <td>4</td>\n",
       "      <td>0</td>\n",
       "      <td>0</td>\n",
       "      <td>0.00</td>\n",
       "      <td>0.000000</td>\n",
       "      <td>0.0</td>\n",
       "      <td>2.415156</td>\n",
       "      <td>1.75</td>\n",
       "      <td>0.0</td>\n",
       "      <td>15.946550</td>\n",
       "    </tr>\n",
       "  </tbody>\n",
       "</table>\n",
       "<p>5 rows × 30 columns</p>\n",
       "</div>"
      ],
      "text/plain": [
       "   match_id predator_id xp_level            timestamp game_mode  \\\n",
       "0  DHCF1PHC  pred100494   novice  2021-01-02 14:47:16    Online   \n",
       "1  BHJFA1I0  pred100494   novice  2021-01-02 14:57:02    Online   \n",
       "2  PMM9CDDR  pred100494   novice  2021-01-02 15:08:18    Online   \n",
       "3  3NT75SH7  pred100494   novice  2021-01-02 15:30:29    Online   \n",
       "4  MNL0ZWA5  pred100494   novice  2021-01-02 15:46:26    Online   \n",
       "\n",
       "               realm_id             environment_id  avatar_id  game_duration  \\\n",
       "0        Yamaoka Estate           Family Residence     Wraith     399.848999   \n",
       "1  The Macmillan Estate        Groaning Storehouse     Wraith     319.134979   \n",
       "2           Silent Hill  Midwich Elementary School     Doctor     687.513123   \n",
       "3    Autohaven Wreckers                Blood Lodge   Huntress     528.620361   \n",
       "4     Grave of Glenvale           Dead Dawg Saloon  Hillbilly     409.839844   \n",
       "\n",
       "   prey_avg_rank  ...  chase_count  chase_count_success  attacks_count  \\\n",
       "0          11.75  ...            5                    1              2   \n",
       "1          11.75  ...            8                    0              0   \n",
       "2          15.25  ...           19                    0              6   \n",
       "3          11.25  ...           11                    0              7   \n",
       "4          14.50  ...            4                    0              0   \n",
       "\n",
       "   prey_avg_heal_count  prey_var_heal_count  chase_success_ratio  \\\n",
       "0                 1.25             3.583333                  0.2   \n",
       "1                 0.00             0.000000                  0.0   \n",
       "2                 1.75             0.916667                  0.0   \n",
       "3                 1.75             1.583333                  0.0   \n",
       "4                 0.00             0.000000                  0.0   \n",
       "\n",
       "   prior_prey_speed  prior_prey_heal  prior_success   time_lag  \n",
       "0               NaN              NaN            NaN        NaN  \n",
       "1          2.129557             1.25            0.0   9.766133  \n",
       "2          2.278671             0.00            0.0  11.271783  \n",
       "3          1.962961             1.75            0.0  22.176050  \n",
       "4          2.415156             1.75            0.0  15.946550  \n",
       "\n",
       "[5 rows x 30 columns]"
      ]
     },
     "execution_count": 30,
     "metadata": {},
     "output_type": "execute_result"
    }
   ],
   "source": [
    "dat.head()"
   ]
  },
  {
   "cell_type": "code",
   "execution_count": 31,
   "metadata": {},
   "outputs": [
    {
     "name": "stdout",
     "output_type": "stream",
     "text": [
      "<class 'pandas.core.frame.DataFrame'>\n",
      "RangeIndex: 100062 entries, 0 to 100061\n",
      "Data columns (total 30 columns):\n",
      " #   Column                 Non-Null Count   Dtype  \n",
      "---  ------                 --------------   -----  \n",
      " 0   match_id               100062 non-null  object \n",
      " 1   predator_id            100062 non-null  object \n",
      " 2   xp_level               100062 non-null  object \n",
      " 3   timestamp              100062 non-null  object \n",
      " 4   game_mode              100062 non-null  object \n",
      " 5   realm_id               100062 non-null  object \n",
      " 6   environment_id         100062 non-null  object \n",
      " 7   avatar_id              100062 non-null  object \n",
      " 8   game_duration          100062 non-null  float64\n",
      " 9   prey_avg_rank          100062 non-null  float64\n",
      " 10  total_xp_pred          100062 non-null  int64  \n",
      " 11  cumul_xp_pred          100062 non-null  int64  \n",
      " 12  hunting_success        100062 non-null  int64  \n",
      " 13  points_predator        100062 non-null  int64  \n",
      " 14  pred_speed             100062 non-null  float64\n",
      " 15  prey_avg_speed         100061 non-null  float64\n",
      " 16  predicted_mean_speed   100062 non-null  float64\n",
      " 17  predicted_sigma_speed  100062 non-null  float64\n",
      " 18  cluster                100062 non-null  int64  \n",
      " 19  hunting_type           100062 non-null  object \n",
      " 20  chase_count            100062 non-null  int64  \n",
      " 21  chase_count_success    100062 non-null  int64  \n",
      " 22  attacks_count          100062 non-null  int64  \n",
      " 23  prey_avg_heal_count    100061 non-null  float64\n",
      " 24  prey_var_heal_count    99959 non-null   float64\n",
      " 25  chase_success_ratio    99912 non-null   float64\n",
      " 26  prior_prey_speed       99809 non-null   float64\n",
      " 27  prior_prey_heal        99809 non-null   float64\n",
      " 28  prior_success          99810 non-null   float64\n",
      " 29  time_lag               99810 non-null   float64\n",
      "dtypes: float64(13), int64(8), object(9)\n",
      "memory usage: 22.9+ MB\n"
     ]
    }
   ],
   "source": [
    "dat.info()"
   ]
  },
  {
   "cell_type": "code",
   "execution_count": 32,
   "metadata": {},
   "outputs": [
    {
     "name": "stdout",
     "output_type": "stream",
     "text": [
      "Colum names: Index(['match_id', 'predator_id', 'xp_level', 'timestamp', 'game_mode',\n",
      "       'realm_id', 'environment_id', 'avatar_id', 'game_duration',\n",
      "       'prey_avg_rank', 'total_xp_pred', 'cumul_xp_pred', 'hunting_success',\n",
      "       'points_predator', 'pred_speed', 'prey_avg_speed',\n",
      "       'predicted_mean_speed', 'predicted_sigma_speed', 'cluster',\n",
      "       'hunting_type', 'chase_count', 'chase_count_success', 'attacks_count',\n",
      "       'prey_avg_heal_count', 'prey_var_heal_count', 'chase_success_ratio',\n",
      "       'prior_prey_speed', 'prior_prey_heal', 'prior_success', 'time_lag'],\n",
      "      dtype='object')\n"
     ]
    }
   ],
   "source": [
    "print(\"Colum names:\", dat.columns)"
   ]
  },
  {
   "cell_type": "markdown",
   "metadata": {},
   "source": [
    "## 4. Build the Bayesian network"
   ]
  },
  {
   "cell_type": "markdown",
   "metadata": {},
   "source": [
    "Here, I use my expertise and knowledge of the system to build the network. In this manuscript, we suggest a causal model of predator-prey interactions, and we thus build our model based on our beliefs on how the system works."
   ]
  },
  {
   "cell_type": "markdown",
   "metadata": {},
   "source": [
    "### 4.1 Discretize the continuous variables\n",
    "\n",
    "I start by discretizing the continuous variables that I'll be using in the network. I will use a quantile-based discretization with 5 bins."
   ]
  },
  {
   "cell_type": "code",
   "execution_count": 33,
   "metadata": {},
   "outputs": [],
   "source": [
    "# Function to create bins\n",
    "def create_bins(data, column, num_bins = 5):\n",
    "    data[f\"{column}_bin\"] = pd.qcut(\n",
    "        x = data[column], q = num_bins\n",
    "    )\n",
    "\n",
    "# Columns to bin\n",
    "columns_to_bin = [\n",
    "    \"prey_avg_speed\",\n",
    "    \"time_lag\",\n",
    "    \"prior_prey_speed\",\n",
    "    \"game_duration\"\n",
    "]\n",
    "\n",
    "# Run the function\n",
    "for column in columns_to_bin:\n",
    "    create_bins(dat, column)"
   ]
  },
  {
   "cell_type": "markdown",
   "metadata": {},
   "source": [
    "I need to do discretize the variable chase success ratio manually since the pd.cut() function seems to produce bins with negative values, which isn't possible for a ratio."
   ]
  },
  {
   "cell_type": "code",
   "execution_count": 34,
   "metadata": {},
   "outputs": [
    {
     "name": "stdout",
     "output_type": "stream",
     "text": [
      "(0.2, 0.4]    44300\n",
      "(0.4, 0.6]    25650\n",
      "(0.0, 0.2]    20658\n",
      "(0.6, 0.8]     5336\n",
      "(0.8, 1.0]      692\n",
      "Name: chase_success_ratio_bin, dtype: int64\n"
     ]
    }
   ],
   "source": [
    "column_name = \"chase_success_ratio\"\n",
    "\n",
    "# Define the bin edges manually based on the range of the data\n",
    "min_value = dat[column_name].min()\n",
    "max_value = dat[column_name].max()\n",
    "bin_edges = [\n",
    "    min_value,\n",
    "    0.2 * (max_value - min_value),\n",
    "    0.4 * (max_value - min_value),\n",
    "    0.6 * (max_value - min_value),\n",
    "    0.8 * (max_value - min_value),\n",
    "    max_value\n",
    "]\n",
    "\n",
    "# Apply manual binning\n",
    "dat[\"chase_success_ratio_bin\"] = pd.cut(\n",
    "    x = dat[\"chase_success_ratio\"],\n",
    "    bins = bin_edges\n",
    ")\n",
    "\n",
    "# Check the result\n",
    "print(dat[\"chase_success_ratio_bin\"].value_counts())"
   ]
  },
  {
   "cell_type": "markdown",
   "metadata": {},
   "source": [
    "### 4.2 Select variables for the Bayesian network\n",
    "\n",
    "I then subset the variables that I will use for the model."
   ]
  },
  {
   "cell_type": "code",
   "execution_count": 35,
   "metadata": {},
   "outputs": [
    {
     "name": "stdout",
     "output_type": "stream",
     "text": [
      "<class 'pandas.core.frame.DataFrame'>\n",
      "Int64Index: 96409 entries, 7 to 100061\n",
      "Data columns (total 9 columns):\n",
      " #   Column                   Non-Null Count  Dtype   \n",
      "---  ------                   --------------  -----   \n",
      " 0   xp_level                 96409 non-null  object  \n",
      " 1   time_lag_bin             96409 non-null  category\n",
      " 2   hunting_type             96409 non-null  object  \n",
      " 3   hunting_success          96409 non-null  int64   \n",
      " 4   prey_avg_speed_bin       96409 non-null  category\n",
      " 5   prior_success            96409 non-null  int64   \n",
      " 6   prior_prey_speed_bin     96409 non-null  category\n",
      " 7   chase_success_ratio_bin  96409 non-null  category\n",
      " 8   game_duration_bin        96409 non-null  category\n",
      "dtypes: category(5), int64(2), object(2)\n",
      "memory usage: 4.1+ MB\n"
     ]
    }
   ],
   "source": [
    "# Select relevant variables\n",
    "selected_variables = [\n",
    "    \"xp_level\",\n",
    "    \"time_lag_bin\",\n",
    "    \"hunting_type\",\n",
    "    \"hunting_success\",\n",
    "    \"prey_avg_speed_bin\",\n",
    "    \"prior_success\",\n",
    "    \"prior_prey_speed_bin\",\n",
    "    \"chase_success_ratio_bin\",\n",
    "    \"game_duration_bin\"\n",
    "]\n",
    "\n",
    "# Subset the data\n",
    "subset = dat[selected_variables]\n",
    "subset\n",
    "\n",
    "# Drop the first row for every player ID (NaN)\n",
    "subset = subset.dropna()\n",
    "\n",
    "# Convert success to integer again\n",
    "subset['prior_success'] = subset['prior_success'].round().astype(int)\n",
    "\n",
    "subset.info()"
   ]
  },
  {
   "cell_type": "code",
   "execution_count": 36,
   "metadata": {},
   "outputs": [
    {
     "data": {
      "text/html": [
       "<div>\n",
       "<style scoped>\n",
       "    .dataframe tbody tr th:only-of-type {\n",
       "        vertical-align: middle;\n",
       "    }\n",
       "\n",
       "    .dataframe tbody tr th {\n",
       "        vertical-align: top;\n",
       "    }\n",
       "\n",
       "    .dataframe thead th {\n",
       "        text-align: right;\n",
       "    }\n",
       "</style>\n",
       "<table border=\"1\" class=\"dataframe\">\n",
       "  <thead>\n",
       "    <tr style=\"text-align: right;\">\n",
       "      <th></th>\n",
       "      <th>xp_level</th>\n",
       "      <th>time_lag_bin</th>\n",
       "      <th>hunting_type</th>\n",
       "      <th>hunting_success</th>\n",
       "      <th>prey_avg_speed_bin</th>\n",
       "      <th>prior_success</th>\n",
       "      <th>prior_prey_speed_bin</th>\n",
       "      <th>chase_success_ratio_bin</th>\n",
       "      <th>game_duration_bin</th>\n",
       "    </tr>\n",
       "  </thead>\n",
       "  <tbody>\n",
       "    <tr>\n",
       "      <th>7</th>\n",
       "      <td>novice</td>\n",
       "      <td>(18.035, 25.191]</td>\n",
       "      <td>ambush-flexible</td>\n",
       "      <td>1</td>\n",
       "      <td>(2.153, 2.35]</td>\n",
       "      <td>0</td>\n",
       "      <td>(2.672, 3.664]</td>\n",
       "      <td>(0.0, 0.2]</td>\n",
       "      <td>(706.504, 831.195]</td>\n",
       "    </tr>\n",
       "    <tr>\n",
       "      <th>8</th>\n",
       "      <td>novice</td>\n",
       "      <td>(359.33, 201831.686]</td>\n",
       "      <td>ambush-flexible</td>\n",
       "      <td>0</td>\n",
       "      <td>(0.619, 2.153]</td>\n",
       "      <td>1</td>\n",
       "      <td>(2.153, 2.35]</td>\n",
       "      <td>(0.0, 0.2]</td>\n",
       "      <td>(518.858, 614.24]</td>\n",
       "    </tr>\n",
       "    <tr>\n",
       "      <th>9</th>\n",
       "      <td>novice</td>\n",
       "      <td>(25.191, 359.33]</td>\n",
       "      <td>ambush-flexible</td>\n",
       "      <td>0</td>\n",
       "      <td>(0.619, 2.153]</td>\n",
       "      <td>0</td>\n",
       "      <td>(0.619, 2.153]</td>\n",
       "      <td>(0.0, 0.2]</td>\n",
       "      <td>(831.195, 4217.349]</td>\n",
       "    </tr>\n",
       "    <tr>\n",
       "      <th>11</th>\n",
       "      <td>novice</td>\n",
       "      <td>(25.191, 359.33]</td>\n",
       "      <td>ambush-flexible</td>\n",
       "      <td>1</td>\n",
       "      <td>(2.153, 2.35]</td>\n",
       "      <td>0</td>\n",
       "      <td>(2.672, 3.664]</td>\n",
       "      <td>(0.4, 0.6]</td>\n",
       "      <td>(518.858, 614.24]</td>\n",
       "    </tr>\n",
       "    <tr>\n",
       "      <th>15</th>\n",
       "      <td>novice</td>\n",
       "      <td>(5.96, 14.699]</td>\n",
       "      <td>ambush-flexible</td>\n",
       "      <td>0</td>\n",
       "      <td>(2.35, 2.506]</td>\n",
       "      <td>0</td>\n",
       "      <td>(0.619, 2.153]</td>\n",
       "      <td>(0.2, 0.4]</td>\n",
       "      <td>(180.017, 518.858]</td>\n",
       "    </tr>\n",
       "  </tbody>\n",
       "</table>\n",
       "</div>"
      ],
      "text/plain": [
       "   xp_level          time_lag_bin     hunting_type  hunting_success  \\\n",
       "7    novice      (18.035, 25.191]  ambush-flexible                1   \n",
       "8    novice  (359.33, 201831.686]  ambush-flexible                0   \n",
       "9    novice      (25.191, 359.33]  ambush-flexible                0   \n",
       "11   novice      (25.191, 359.33]  ambush-flexible                1   \n",
       "15   novice        (5.96, 14.699]  ambush-flexible                0   \n",
       "\n",
       "   prey_avg_speed_bin  prior_success prior_prey_speed_bin  \\\n",
       "7       (2.153, 2.35]              0       (2.672, 3.664]   \n",
       "8      (0.619, 2.153]              1        (2.153, 2.35]   \n",
       "9      (0.619, 2.153]              0       (0.619, 2.153]   \n",
       "11      (2.153, 2.35]              0       (2.672, 3.664]   \n",
       "15      (2.35, 2.506]              0       (0.619, 2.153]   \n",
       "\n",
       "   chase_success_ratio_bin    game_duration_bin  \n",
       "7               (0.0, 0.2]   (706.504, 831.195]  \n",
       "8               (0.0, 0.2]    (518.858, 614.24]  \n",
       "9               (0.0, 0.2]  (831.195, 4217.349]  \n",
       "11              (0.4, 0.6]    (518.858, 614.24]  \n",
       "15              (0.2, 0.4]   (180.017, 518.858]  "
      ]
     },
     "execution_count": 36,
     "metadata": {},
     "output_type": "execute_result"
    }
   ],
   "source": [
    "subset.head()"
   ]
  },
  {
   "cell_type": "markdown",
   "metadata": {},
   "source": [
    "### 4.2 Build the Bayesian network structure\n",
    "\n",
    "Here, I build the relationships (edges) between the variables (nodes).\n",
    "\n",
    "The model goes like this :\n",
    "\n",
    "**Edges for prior success**\n",
    "- prior prey speed --> prior hunting success\n",
    "\n",
    "**Edges for hunting type**\n",
    "- experience --> hunting type\n",
    "- prior prey speed --> hunting type\n",
    "- prior success --> hunting type\n",
    "- time lag --> hunting type\n",
    "\n",
    "**Edges for chase success ratio**\n",
    "- time lag --> chase success ratio\n",
    "- experience --> chase success ratio\n",
    "- hunting type --> chase success ratio\n",
    "- prey speed --> chase success ratio\n",
    "\n",
    "**Edges for prey speed**\n",
    "- hunting type --> prey speed\n",
    "\n",
    "**Edges for hunting success**\n",
    "- chase success ratio --> hunting success\n",
    "- hunting type --> hunting success\n",
    "- prey speed --> hunting success\n",
    "\n",
    "**Control**\n",
    "- game duration --> hunting success\n"
   ]
  },
  {
   "cell_type": "code",
   "execution_count": 38,
   "metadata": {},
   "outputs": [],
   "source": [
    "edges = [\n",
    "    # Edges for prior hunting success\n",
    "    (\"prior_prey_speed_bin\", \"prior_success\"),\n",
    "    # Edges for hunting type\n",
    "    (\"xp_level\", \"hunting_type\"),\n",
    "    (\"prior_success\", \"hunting_type\"),\n",
    "    (\"time_lag_bin\", \"hunting_type\"),\n",
    "    (\"prior_prey_speed_bin\", \"hunting_type\"),\n",
    "    # Edges for chase success ratio\n",
    "    (\"time_lag_bin\", \"chase_success_ratio_bin\"),\n",
    "    (\"xp_level\", \"chase_success_ratio_bin\"),\n",
    "    (\"hunting_type\", \"chase_success_ratio_bin\"),\n",
    "    (\"prey_avg_speed_bin\", \"chase_success_ratio_bin\"),\n",
    "    # Edges for prey speed\n",
    "    (\"hunting_type\", \"prey_avg_speed_bin\"),\n",
    "    # Edges for hunting success\n",
    "    (\"hunting_type\", \"hunting_success\"),\n",
    "    (\"chase_success_ratio_bin\", \"hunting_success\"),\n",
    "    (\"prey_avg_speed_bin\", \"hunting_success\"),\n",
    "    (\"game_duration_bin\", \"hunting_success\")\n",
    "]"
   ]
  },
  {
   "cell_type": "markdown",
   "metadata": {},
   "source": [
    "### 4.3 Separate the data into training and testing"
   ]
  },
  {
   "cell_type": "code",
   "execution_count": 39,
   "metadata": {},
   "outputs": [],
   "source": [
    "train_df, test_df = train_test_split(\n",
    "    subset,\n",
    "    test_size = 0.3,\n",
    "    random_state = 123\n",
    ")"
   ]
  },
  {
   "cell_type": "markdown",
   "metadata": {},
   "source": [
    "Save the test dataset that we will use later to evaluate the model predictions"
   ]
  },
  {
   "cell_type": "code",
   "execution_count": 40,
   "metadata": {},
   "outputs": [
    {
     "data": {
      "text/plain": [
       "['/home/graptemys/Documents/GitHub/Chapter3/outputs/test-data.joblib']"
      ]
     },
     "execution_count": 40,
     "metadata": {},
     "output_type": "execute_result"
    }
   ],
   "source": [
    "dump(test_df, output_path1)"
   ]
  },
  {
   "cell_type": "markdown",
   "metadata": {},
   "source": [
    "## 5. Train the Bayesian network"
   ]
  },
  {
   "cell_type": "markdown",
   "metadata": {},
   "source": [
    "### 5.1 Parameter learning\n",
    "\n",
    "I build the dag using the edges object"
   ]
  },
  {
   "cell_type": "code",
   "execution_count": 41,
   "metadata": {},
   "outputs": [
    {
     "name": "stdout",
     "output_type": "stream",
     "text": [
      "[bnlearn] >bayes DAG created.\n"
     ]
    }
   ],
   "source": [
    "DAG = bn.make_DAG(edges)"
   ]
  },
  {
   "cell_type": "markdown",
   "metadata": {},
   "source": [
    "I then fit the model using the DAG that I constructed. I use the Bayes method to learn the parameters"
   ]
  },
  {
   "cell_type": "code",
   "execution_count": 42,
   "metadata": {},
   "outputs": [
    {
     "name": "stdout",
     "output_type": "stream",
     "text": [
      "[bnlearn] >Parameter learning> Computing parameters using [bayes]\n"
     ]
    },
    {
     "name": "stdout",
     "output_type": "stream",
     "text": [
      "[bnlearn] >CPD of prior_prey_speed_bin:\n",
      "+--------------------------------------+----------+\n",
      "| prior_prey_speed_bin((0.619, 2.153]) | 0.196931 |\n",
      "+--------------------------------------+----------+\n",
      "| prior_prey_speed_bin((2.153, 2.35])  | 0.20045  |\n",
      "+--------------------------------------+----------+\n",
      "| prior_prey_speed_bin((2.35, 2.506])  | 0.201238 |\n",
      "+--------------------------------------+----------+\n",
      "| prior_prey_speed_bin((2.506, 2.672]) | 0.201005 |\n",
      "+--------------------------------------+----------+\n",
      "| prior_prey_speed_bin((2.672, 3.664]) | 0.200377 |\n",
      "+--------------------------------------+----------+\n",
      "[bnlearn] >CPD of prior_success:\n",
      "+----------------------+-----+\n",
      "| prior_prey_speed_bin | ... |\n",
      "+----------------------+-----+\n",
      "| prior_success(0)     | ... |\n",
      "+----------------------+-----+\n",
      "| prior_success(1)     | ... |\n",
      "+----------------------+-----+\n",
      "| prior_success(2)     | ... |\n",
      "+----------------------+-----+\n",
      "| prior_success(3)     | ... |\n",
      "+----------------------+-----+\n",
      "| prior_success(4)     | ... |\n",
      "+----------------------+-----+\n",
      "[bnlearn] >CPD of xp_level:\n",
      "+--------------------+----------+\n",
      "| xp_level(advanced) | 0.305819 |\n",
      "+--------------------+----------+\n",
      "| xp_level(interm)   | 0.463895 |\n",
      "+--------------------+----------+\n",
      "| xp_level(novice)   | 0.230286 |\n",
      "+--------------------+----------+\n",
      "[bnlearn] >CPD of hunting_type:\n",
      "+-----+\n",
      "| ... |\n",
      "+-----+\n",
      "| ... |\n",
      "+-----+\n",
      "| ... |\n",
      "+-----+\n",
      "| ... |\n",
      "+-----+\n",
      "| ... |\n",
      "+-----+\n",
      "| ... |\n",
      "+-----+\n",
      "| ... |\n",
      "+-----+\n",
      "[bnlearn] >CPD of time_lag_bin:\n",
      "+------------------------------------+----------+\n",
      "| time_lag_bin((5.96, 14.699])       | 0.197281 |\n",
      "+------------------------------------+----------+\n",
      "| time_lag_bin((14.699, 18.035])     | 0.2021   |\n",
      "+------------------------------------+----------+\n",
      "| time_lag_bin((18.035, 25.191])     | 0.200888 |\n",
      "+------------------------------------+----------+\n",
      "| time_lag_bin((25.191, 359.33])     | 0.198829 |\n",
      "+------------------------------------+----------+\n",
      "| time_lag_bin((359.33, 201831.686]) | 0.200902 |\n",
      "+------------------------------------+----------+\n",
      "[bnlearn] >CPD of chase_success_ratio_bin:\n",
      "+-----+\n",
      "| ... |\n",
      "+-----+\n",
      "| ... |\n",
      "+-----+\n",
      "| ... |\n",
      "+-----+\n",
      "| ... |\n",
      "+-----+\n",
      "| ... |\n",
      "+-----+\n",
      "| ... |\n",
      "+-----+\n",
      "| ... |\n",
      "+-----+\n",
      "| ... |\n",
      "+-----+\n",
      "| ... |\n",
      "+-----+\n",
      "[bnlearn] >CPD of prey_avg_speed_bin:\n",
      "+-----+\n",
      "| ... |\n",
      "+-----+\n",
      "| ... |\n",
      "+-----+\n",
      "| ... |\n",
      "+-----+\n",
      "| ... |\n",
      "+-----+\n",
      "| ... |\n",
      "+-----+\n",
      "| ... |\n",
      "+-----+\n",
      "[bnlearn] >CPD of hunting_success:\n",
      "+-------------------------+-----+\n",
      "| chase_success_ratio_bin | ... |\n",
      "+-------------------------+-----+\n",
      "| game_duration_bin       | ... |\n",
      "+-------------------------+-----+\n",
      "| hunting_type            | ... |\n",
      "+-------------------------+-----+\n",
      "| prey_avg_speed_bin      | ... |\n",
      "+-------------------------+-----+\n",
      "| hunting_success(0)      | ... |\n",
      "+-------------------------+-----+\n",
      "| hunting_success(1)      | ... |\n",
      "+-------------------------+-----+\n",
      "| hunting_success(2)      | ... |\n",
      "+-------------------------+-----+\n",
      "| hunting_success(3)      | ... |\n",
      "+-------------------------+-----+\n",
      "| hunting_success(4)      | ... |\n",
      "+-------------------------+-----+\n",
      "[bnlearn] >CPD of game_duration_bin:\n",
      "+----------------------------------------+----------+\n",
      "| game_duration_bin((180.017, 518.858])  | 0.183132 |\n",
      "+----------------------------------------+----------+\n",
      "| game_duration_bin((518.858, 614.24])   | 0.199895 |\n",
      "+----------------------------------------+----------+\n",
      "| game_duration_bin((614.24, 706.504])   | 0.204144 |\n",
      "+----------------------------------------+----------+\n",
      "| game_duration_bin((706.504, 831.195])  | 0.206013 |\n",
      "+----------------------------------------+----------+\n",
      "| game_duration_bin((831.195, 4217.349]) | 0.206816 |\n",
      "+----------------------------------------+----------+\n",
      "[bnlearn] >Compute structure scores for model comparison (higher is better).\n"
     ]
    }
   ],
   "source": [
    "DAG = bn.parameter_learning.fit(\n",
    "    DAG, train_df,\n",
    "    methodtype = \"bayes\"\n",
    ")"
   ]
  },
  {
   "cell_type": "markdown",
   "metadata": {},
   "source": [
    "### 5.2 Independence test for edges"
   ]
  },
  {
   "cell_type": "markdown",
   "metadata": {},
   "source": [
    "I do the chi-square test to evaluate edge strength."
   ]
  },
  {
   "cell_type": "code",
   "execution_count": 45,
   "metadata": {},
   "outputs": [
    {
     "name": "stdout",
     "output_type": "stream",
     "text": [
      "\n",
      "[df2onehot] >Auto detecting dtypes.\n"
     ]
    },
    {
     "name": "stderr",
     "output_type": "stream",
     "text": [
      "100%|██████████| 9/9 [00:05<00:00,  1.53it/s]\n"
     ]
    },
    {
     "name": "stdout",
     "output_type": "stream",
     "text": [
      "[df2onehot] >Set dtypes in dataframe..\n"
     ]
    },
    {
     "name": "stderr",
     "output_type": "stream",
     "text": [
      "[df2onehot]: 100%|██████████| 9/9 [00:00<00:00, 52.70it/s]\n"
     ]
    },
    {
     "name": "stdout",
     "output_type": "stream",
     "text": [
      "[df2onehot] >Total onehot features: 21\n",
      "[bnlearn] >Compute edge strength with [g_sq]\n"
     ]
    }
   ],
   "source": [
    "# Convert to onehot\n",
    "dfhot, dfnum = bn.df2onehot(train_df)\n",
    "\n",
    "# Compute edge strength with the chi_square test statistic\n",
    "DAG = bn.independence_test(\n",
    "    DAG,\n",
    "    dfnum,\n",
    "    test = \"g_sq\",\n",
    "    prune = False\n",
    ")"
   ]
  },
  {
   "cell_type": "markdown",
   "metadata": {},
   "source": [
    "Check the results of the test"
   ]
  },
  {
   "cell_type": "code",
   "execution_count": 46,
   "metadata": {},
   "outputs": [
    {
     "name": "stdout",
     "output_type": "stream",
     "text": [
      "                     source                   target  stat_test       p_value  \\\n",
      "0      prior_prey_speed_bin            prior_success      False  1.000000e+00   \n",
      "1      prior_prey_speed_bin             hunting_type      False  1.000000e+00   \n",
      "2             prior_success             hunting_type       True  1.398179e-34   \n",
      "3                  xp_level             hunting_type       True  2.315951e-08   \n",
      "4                  xp_level  chase_success_ratio_bin      False  1.000000e+00   \n",
      "5              hunting_type  chase_success_ratio_bin      False  1.000000e+00   \n",
      "6              hunting_type       prey_avg_speed_bin      False  1.000000e+00   \n",
      "7              hunting_type          hunting_success       True  1.650949e-16   \n",
      "8              time_lag_bin             hunting_type      False  1.000000e+00   \n",
      "9              time_lag_bin  chase_success_ratio_bin      False  1.000000e+00   \n",
      "10  chase_success_ratio_bin          hunting_success      False  1.000000e+00   \n",
      "11       prey_avg_speed_bin  chase_success_ratio_bin      False  1.000000e+00   \n",
      "12       prey_avg_speed_bin          hunting_success      False  1.000000e+00   \n",
      "13        game_duration_bin          hunting_success      False  1.000000e+00   \n",
      "\n",
      "          g_sq  dof  \n",
      "0     0.000000    0  \n",
      "1     0.000000    0  \n",
      "2   179.366911    8  \n",
      "3    41.312300    4  \n",
      "4     0.000000    0  \n",
      "5     0.000000    0  \n",
      "6     0.000000    0  \n",
      "7    92.213758    8  \n",
      "8     0.000000    0  \n",
      "9     0.000000    0  \n",
      "10    0.000000    0  \n",
      "11    0.000000    0  \n",
      "12    0.000000    0  \n",
      "13    0.000000    0  \n"
     ]
    }
   ],
   "source": [
    "# Show the results of the independence test\n",
    "print(DAG[\"independence_test\"])"
   ]
  },
  {
   "cell_type": "markdown",
   "metadata": {},
   "source": [
    "## 6. Save the model object"
   ]
  },
  {
   "cell_type": "code",
   "execution_count": 47,
   "metadata": {},
   "outputs": [
    {
     "data": {
      "text/plain": [
       "['/home/graptemys/Documents/GitHub/Chapter3/outputs/BayesNet-fit.joblib']"
      ]
     },
     "execution_count": 47,
     "metadata": {},
     "output_type": "execute_result"
    }
   ],
   "source": [
    "# Save the output\n",
    "dump(DAG, output_path2)"
   ]
  }
 ],
 "metadata": {
  "kernelspec": {
   "display_name": ".venv",
   "language": "python",
   "name": "python3"
  },
  "language_info": {
   "codemirror_mode": {
    "name": "ipython",
    "version": 3
   },
   "file_extension": ".py",
   "mimetype": "text/x-python",
   "name": "python",
   "nbconvert_exporter": "python",
   "pygments_lexer": "ipython3",
   "version": "3.10.12"
  }
 },
 "nbformat": 4,
 "nbformat_minor": 2
}
