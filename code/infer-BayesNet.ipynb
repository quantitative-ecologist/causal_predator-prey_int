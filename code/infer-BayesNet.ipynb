{
 "cells": [
  {
   "cell_type": "markdown",
   "metadata": {},
   "source": [
    "# **Perform inference**\n",
    "\n",
    "## **1. Description**\n",
    "\n",
    "Here, I use the model to perform query questions.\n",
    "\n",
    "Each question will assess how different compartments of the predation process influence prey capture.\n",
    "\n",
    "- **Question 1 :** How does expertise influence foraging decisions and prey capture?\n",
    "\n",
    "- **Question 2 :** How does past experience and memory influence foraging decisions and prey capture?\n",
    "\n",
    "- **Question 3 :** How does the current interaction influence foraging decision and prey capture?\n",
    "\n",
    "I will perform approximate inference using sampling to generate probability distributions for my queries.\n",
    "\n",
    "Each query will return a conditional probability table.\n",
    "\n",
    "For most queries, we control for the average rank of the prey group (prey skill) as this can influence how predators fare against such prey."
   ]
  },
  {
   "cell_type": "markdown",
   "metadata": {},
   "source": [
    "## **2. Prepare the session**\n",
    "\n",
    "Load the libraries"
   ]
  },
  {
   "cell_type": "code",
   "execution_count": 24,
   "metadata": {},
   "outputs": [],
   "source": [
    "# To manipulate data\n",
    "import pandas as pd\n",
    "\n",
    "# To perform inference\n",
    "from pgmpy.inference import ApproxInference\n",
    "\n",
    "# To import the data\n",
    "from joblib import load\n",
    "import os"
   ]
  },
  {
   "cell_type": "markdown",
   "metadata": {},
   "source": [
    "Import the model object."
   ]
  },
  {
   "cell_type": "code",
   "execution_count": 25,
   "metadata": {},
   "outputs": [],
   "source": [
    "# Define the parent directory\n",
    "parent_dir = os.path.abspath(\n",
    "    os.path.join(os.getcwd(), os.pardir)\n",
    ")\n",
    "\n",
    "# Define the subfolder directory\n",
    "output_folder = os.path.join(\n",
    "    parent_dir, \"outputs\"\n",
    ")\n",
    "\n",
    "# Name of the model output file\n",
    "file_name = \"BayesNet-fit.joblib\"\n",
    "\n",
    "model = load(\n",
    "    os.path.join(\n",
    "        output_folder,\n",
    "        file_name\n",
    "    )\n",
    ")"
   ]
  },
  {
   "cell_type": "markdown",
   "metadata": {},
   "source": [
    "## **3. Basic queries**"
   ]
  },
  {
   "cell_type": "markdown",
   "metadata": {},
   "source": [
    "Here, I perform simple queries that will help me assess how to interpret further results.\n",
    "\n",
    "I start by creating an inference object called \"infer\"."
   ]
  },
  {
   "cell_type": "code",
   "execution_count": 26,
   "metadata": {},
   "outputs": [],
   "source": [
    "infer = ApproxInference(model)"
   ]
  },
  {
   "cell_type": "markdown",
   "metadata": {},
   "source": [
    "### **3.1 Chase rate and prey capture**\n",
    "\n",
    "First, I want to know if different chase rates are associated with differences in prey capture."
   ]
  },
  {
   "cell_type": "code",
   "execution_count": null,
   "metadata": {},
   "outputs": [],
   "source": [
    "evid_baseq = {\n",
    "    \"prey_avg_rank_bin\": \"Q3\"\n",
    "    }\n",
    "\n",
    "baseq_1 = infer.query(\n",
    "    variables = [\"prey_captured\", \"chases_persec_bin\"],\n",
    "    evidence = evid_baseq,\n",
    "    joint = True,\n",
    "    n_samples = 5000,\n",
    "    seed = 123,\n",
    "    show_progress = False\n",
    ")"
   ]
  },
  {
   "cell_type": "code",
   "execution_count": 28,
   "metadata": {},
   "outputs": [
    {
     "name": "stdout",
     "output_type": "stream",
     "text": [
      "+------------------+----------------------------+----------------------------------------+\n",
      "| prey_captured    | chases_persec_bin          |   phi(prey_captured,chases_persec_bin) |\n",
      "+==================+============================+========================================+\n",
      "| prey_captured(1) | chases_persec_bin(Average) |                                 0.4078 |\n",
      "+------------------+----------------------------+----------------------------------------+\n",
      "| prey_captured(1) | chases_persec_bin(Low)     |                                 0.3092 |\n",
      "+------------------+----------------------------+----------------------------------------+\n",
      "| prey_captured(1) | chases_persec_bin(High)    |                                 0.0866 |\n",
      "+------------------+----------------------------+----------------------------------------+\n",
      "| prey_captured(0) | chases_persec_bin(Average) |                                 0.1012 |\n",
      "+------------------+----------------------------+----------------------------------------+\n",
      "| prey_captured(0) | chases_persec_bin(Low)     |                                 0.0488 |\n",
      "+------------------+----------------------------+----------------------------------------+\n",
      "| prey_captured(0) | chases_persec_bin(High)    |                                 0.0464 |\n",
      "+------------------+----------------------------+----------------------------------------+\n"
     ]
    }
   ],
   "source": [
    "print(baseq_1)"
   ]
  },
  {
   "cell_type": "markdown",
   "metadata": {},
   "source": [
    "**Results.**\n",
    "\n",
    "Average and lower chase rates are associated with greater chances of capturing prey.\n",
    "\n",
    "**Interpretation.**\n",
    "\n",
    "This suggests that predators are more efficient when the chase rate is low. Higher chase rates would mean that predators are engaged in longer chases or that they chase often without being efficient."
   ]
  },
  {
   "cell_type": "markdown",
   "metadata": {},
   "source": [
    "### **3.2 Foraging mode, chase rate, and prey capture**"
   ]
  },
  {
   "cell_type": "code",
   "execution_count": null,
   "metadata": {},
   "outputs": [],
   "source": [
    "baseq_2 = infer.query(\n",
    "    variables = [\"prey_captured\", \"chases_persec_bin\", \"pred_speed_bin\"],\n",
    "    evidence = evid_baseq,\n",
    "    joint = True,\n",
    "    n_samples = 5000,\n",
    "    seed = 123,\n",
    "    show_progress = False\n",
    ")"
   ]
  },
  {
   "cell_type": "code",
   "execution_count": 30,
   "metadata": {},
   "outputs": [
    {
     "name": "stdout",
     "output_type": "stream",
     "text": [
      "+------------------+----------------------------+-------------------------+-------------------------------------------------------+\n",
      "| prey_captured    | chases_persec_bin          | pred_speed_bin          |   phi(prey_captured,chases_persec_bin,pred_speed_bin) |\n",
      "+==================+============================+=========================+=======================================================+\n",
      "| prey_captured(1) | chases_persec_bin(Average) | pred_speed_bin(Average) |                                                0.3058 |\n",
      "+------------------+----------------------------+-------------------------+-------------------------------------------------------+\n",
      "| prey_captured(1) | chases_persec_bin(Average) | pred_speed_bin(Faster)  |                                                0.0336 |\n",
      "+------------------+----------------------------+-------------------------+-------------------------------------------------------+\n",
      "| prey_captured(1) | chases_persec_bin(Average) | pred_speed_bin(Slower)  |                                                0.0684 |\n",
      "+------------------+----------------------------+-------------------------+-------------------------------------------------------+\n",
      "| prey_captured(1) | chases_persec_bin(Low)     | pred_speed_bin(Average) |                                                0.2350 |\n",
      "+------------------+----------------------------+-------------------------+-------------------------------------------------------+\n",
      "| prey_captured(1) | chases_persec_bin(Low)     | pred_speed_bin(Faster)  |                                                0.0196 |\n",
      "+------------------+----------------------------+-------------------------+-------------------------------------------------------+\n",
      "| prey_captured(1) | chases_persec_bin(Low)     | pred_speed_bin(Slower)  |                                                0.0546 |\n",
      "+------------------+----------------------------+-------------------------+-------------------------------------------------------+\n",
      "| prey_captured(1) | chases_persec_bin(High)    | pred_speed_bin(Average) |                                                0.0628 |\n",
      "+------------------+----------------------------+-------------------------+-------------------------------------------------------+\n",
      "| prey_captured(1) | chases_persec_bin(High)    | pred_speed_bin(Faster)  |                                                0.0058 |\n",
      "+------------------+----------------------------+-------------------------+-------------------------------------------------------+\n",
      "| prey_captured(1) | chases_persec_bin(High)    | pred_speed_bin(Slower)  |                                                0.0180 |\n",
      "+------------------+----------------------------+-------------------------+-------------------------------------------------------+\n",
      "| prey_captured(0) | chases_persec_bin(Average) | pred_speed_bin(Average) |                                                0.0648 |\n",
      "+------------------+----------------------------+-------------------------+-------------------------------------------------------+\n",
      "| prey_captured(0) | chases_persec_bin(Average) | pred_speed_bin(Faster)  |                                                0.0170 |\n",
      "+------------------+----------------------------+-------------------------+-------------------------------------------------------+\n",
      "| prey_captured(0) | chases_persec_bin(Average) | pred_speed_bin(Slower)  |                                                0.0194 |\n",
      "+------------------+----------------------------+-------------------------+-------------------------------------------------------+\n",
      "| prey_captured(0) | chases_persec_bin(Low)     | pred_speed_bin(Average) |                                                0.0256 |\n",
      "+------------------+----------------------------+-------------------------+-------------------------------------------------------+\n",
      "| prey_captured(0) | chases_persec_bin(Low)     | pred_speed_bin(Faster)  |                                                0.0056 |\n",
      "+------------------+----------------------------+-------------------------+-------------------------------------------------------+\n",
      "| prey_captured(0) | chases_persec_bin(Low)     | pred_speed_bin(Slower)  |                                                0.0176 |\n",
      "+------------------+----------------------------+-------------------------+-------------------------------------------------------+\n",
      "| prey_captured(0) | chases_persec_bin(High)    | pred_speed_bin(Average) |                                                0.0272 |\n",
      "+------------------+----------------------------+-------------------------+-------------------------------------------------------+\n",
      "| prey_captured(0) | chases_persec_bin(High)    | pred_speed_bin(Faster)  |                                                0.0052 |\n",
      "+------------------+----------------------------+-------------------------+-------------------------------------------------------+\n",
      "| prey_captured(0) | chases_persec_bin(High)    | pred_speed_bin(Slower)  |                                                0.0140 |\n",
      "+------------------+----------------------------+-------------------------+-------------------------------------------------------+\n"
     ]
    }
   ],
   "source": [
    "print(baseq_2)"
   ]
  },
  {
   "cell_type": "markdown",
   "metadata": {},
   "source": [
    "**Results.**\n",
    "\n",
    "Overall, predators that use the intercepting strategy have higher chances of engaging in fewer or an average number of chases, and these predators have much higher chances of capturing prey.\n",
    "\n",
    "**Interpretation.**\n",
    "\n",
    "This suggests that predators using the average strategy are more efficient, and thus, more likely to capture prey. If this is true, then such hunters are probably geared to hunt a greater range of prey with the intercepting strategy."
   ]
  },
  {
   "cell_type": "markdown",
   "metadata": {},
   "source": [
    "## **4. Question 1 - Expertise**\n",
    "\n",
    "Here, the idea is to assess how prey capture changes with hunting repeated atempts. Predators should technically increase their success as they gain experience, which is the acquisition of expertise. I will test how time lags between sessions influence the gain of expertise. "
   ]
  },
  {
   "cell_type": "markdown",
   "metadata": {},
   "source": [
    "### **4.1 Foraging mode**\n",
    "\n",
    "#### **4.1.1 Query 1 - Experience level given time lag**\n",
    "\n",
    "Here, we ask the question whether the predator's foraging mode changes with experience given the time lag between sessions.\n",
    "\n",
    "We will perform one query for long time lags, and a second query for shorter time lags.\n",
    "\n",
    "We start with the query for long time lags."
   ]
  },
  {
   "cell_type": "code",
   "execution_count": null,
   "metadata": {},
   "outputs": [],
   "source": [
    "evid_q1a = {\n",
    "    \"time_lag_session_log_bin\": \"Q5\",\n",
    "    \"prey_avg_rank_bin\": \"Q3\"\n",
    "    }\n",
    "\n",
    "q1a = infer.query(\n",
    "    variables = [\"pred_speed_bin\", \"xp_level\"],\n",
    "    evidence = evid_q1a,\n",
    "    joint = True,\n",
    "    n_samples = 5000,\n",
    "    seed = 123,\n",
    "    show_progress = False\n",
    ")"
   ]
  },
  {
   "cell_type": "markdown",
   "metadata": {},
   "source": [
    "And now the query for short timelags."
   ]
  },
  {
   "cell_type": "code",
   "execution_count": null,
   "metadata": {},
   "outputs": [],
   "source": [
    "evid_q1b = {\n",
    "    \"time_lag_session_log_bin\": \"Q1\",\n",
    "    \"prey_avg_rank_bin\": \"Q3\"\n",
    "    }\n",
    "\n",
    "q1b = infer.query(\n",
    "    variables = [\"pred_speed_bin\", \"xp_level\"],\n",
    "    evidence = evid_q1b,\n",
    "    joint = True,\n",
    "    n_samples = 5000,\n",
    "    seed = 123,\n",
    "    show_progress = False\n",
    ")"
   ]
  },
  {
   "cell_type": "code",
   "execution_count": 65,
   "metadata": {},
   "outputs": [
    {
     "name": "stdout",
     "output_type": "stream",
     "text": [
      "\n",
      "Joint CPD of foraging mode and xp level given long time lags between sessions\n",
      " +-------------------------+--------------------+--------------------------------+\n",
      "| pred_speed_bin          | xp_level           |   phi(pred_speed_bin,xp_level) |\n",
      "+=========================+====================+================================+\n",
      "| pred_speed_bin(Average) | xp_level(advanced) |                         0.2068 |\n",
      "+-------------------------+--------------------+--------------------------------+\n",
      "| pred_speed_bin(Average) | xp_level(interm)   |                         0.3452 |\n",
      "+-------------------------+--------------------+--------------------------------+\n",
      "| pred_speed_bin(Average) | xp_level(novice)   |                         0.1682 |\n",
      "+-------------------------+--------------------+--------------------------------+\n",
      "| pred_speed_bin(Slower)  | xp_level(advanced) |                         0.0652 |\n",
      "+-------------------------+--------------------+--------------------------------+\n",
      "| pred_speed_bin(Slower)  | xp_level(interm)   |                         0.0840 |\n",
      "+-------------------------+--------------------+--------------------------------+\n",
      "| pred_speed_bin(Slower)  | xp_level(novice)   |                         0.0412 |\n",
      "+-------------------------+--------------------+--------------------------------+\n",
      "| pred_speed_bin(Faster)  | xp_level(advanced) |                         0.0302 |\n",
      "+-------------------------+--------------------+--------------------------------+\n",
      "| pred_speed_bin(Faster)  | xp_level(interm)   |                         0.0422 |\n",
      "+-------------------------+--------------------+--------------------------------+\n",
      "| pred_speed_bin(Faster)  | xp_level(novice)   |                         0.0170 |\n",
      "+-------------------------+--------------------+--------------------------------+\n",
      "\n",
      "Joint CPD of foraging mode and xp level given short time lags between sessions\n",
      " +-------------------------+--------------------+--------------------------------+\n",
      "| pred_speed_bin          | xp_level           |   phi(pred_speed_bin,xp_level) |\n",
      "+=========================+====================+================================+\n",
      "| pred_speed_bin(Average) | xp_level(novice)   |                         0.1558 |\n",
      "+-------------------------+--------------------+--------------------------------+\n",
      "| pred_speed_bin(Average) | xp_level(advanced) |                         0.1942 |\n",
      "+-------------------------+--------------------+--------------------------------+\n",
      "| pred_speed_bin(Average) | xp_level(interm)   |                         0.3510 |\n",
      "+-------------------------+--------------------+--------------------------------+\n",
      "| pred_speed_bin(Faster)  | xp_level(novice)   |                         0.0214 |\n",
      "+-------------------------+--------------------+--------------------------------+\n",
      "| pred_speed_bin(Faster)  | xp_level(advanced) |                         0.0406 |\n",
      "+-------------------------+--------------------+--------------------------------+\n",
      "| pred_speed_bin(Faster)  | xp_level(interm)   |                         0.0356 |\n",
      "+-------------------------+--------------------+--------------------------------+\n",
      "| pred_speed_bin(Slower)  | xp_level(novice)   |                         0.0416 |\n",
      "+-------------------------+--------------------+--------------------------------+\n",
      "| pred_speed_bin(Slower)  | xp_level(advanced) |                         0.0646 |\n",
      "+-------------------------+--------------------+--------------------------------+\n",
      "| pred_speed_bin(Slower)  | xp_level(interm)   |                         0.0952 |\n",
      "+-------------------------+--------------------+--------------------------------+\n"
     ]
    }
   ],
   "source": [
    "print(\"\\nJoint CPD of foraging mode and xp level given long time lags between sessions\\n\", q1a)\n",
    "print(\"\\nJoint CPD of foraging mode and xp level given short time lags between sessions\\n\", q1b)"
   ]
  },
  {
   "cell_type": "markdown",
   "metadata": {},
   "source": [
    "**Results**.\n",
    "\n",
    "Overall, it seems that at any experience level and regardless of the time lag between sessions (i.e., low or high time lags), predators are more likely to use an intercepting foraging mode. Chances are also higher that they use such strategy when they are intermediate hunters.\n",
    "\n",
    "**Interpretation**. \n",
    "\n",
    "These results show that the intercepting foraging mode (population average) is more likely to be used than the strategies at the end of the spectrum. Moreover, our results suggest that the chances of using a specific foraging mode is not influenced by the time lag between sessions.\n",
    "\n",
    "Because predators are more likely to use the intercepting mode when they are intermediate hunters, it is possible that this results from them adjusting to a greater range of prey being encountered at this level of experience. Thus, this strategy could act as a buffer for a greater spectrum of prey.\n",
    "\n",
    "\n",
    "\n",
    "### **4.2 Chase rate**\n",
    "\n",
    "#### **4.2.1 Query 2 - Experience level given time lag**\n",
    "\n",
    "We now perform a similar query, but looking at the predator's chase rate. The hypothesis is that higher experience should lead to more chases. Alternatively, lower chase rates with experience may indicate higher performance because of optimal strategies. We will adress this second prediction later in query 3."
   ]
  },
  {
   "cell_type": "code",
   "execution_count": null,
   "metadata": {},
   "outputs": [],
   "source": [
    "evid_q2a = {\n",
    "    \"time_lag_session_log_bin\": \"Q5\",\n",
    "    \"prey_avg_rank_bin\": \"Q3\"\n",
    "    }\n",
    "\n",
    "q2a = infer.query(\n",
    "    variables = [\"chases_persec_bin\", \"xp_level\"],\n",
    "    evidence = evid_q2a,\n",
    "    joint = True,\n",
    "    n_samples = 5000,\n",
    "    seed = 123,\n",
    "    show_progress = False\n",
    ")"
   ]
  },
  {
   "cell_type": "markdown",
   "metadata": {},
   "source": [
    "Now fort short time lags"
   ]
  },
  {
   "cell_type": "code",
   "execution_count": null,
   "metadata": {},
   "outputs": [],
   "source": [
    "evid_q2b = {\n",
    "    \"time_lag_session_log_bin\": \"Q1\",\n",
    "    \"prey_avg_rank_bin\": \"Q3\"\n",
    "    }\n",
    "\n",
    "q2b = infer.query(\n",
    "    variables = [\"chases_persec_bin\", \"xp_level\"],\n",
    "    evidence = evid_q2b,\n",
    "    joint = True,\n",
    "    n_samples = 5000,\n",
    "    seed = 123,\n",
    "    show_progress = False\n",
    ")"
   ]
  },
  {
   "cell_type": "code",
   "execution_count": 64,
   "metadata": {},
   "outputs": [
    {
     "name": "stdout",
     "output_type": "stream",
     "text": [
      "\n",
      "Joint CPD of chase rate and xp level given long time lags between sessions\n",
      " +----------------------------+--------------------+-----------------------------------+\n",
      "| chases_persec_bin          | xp_level           |   phi(chases_persec_bin,xp_level) |\n",
      "+============================+====================+===================================+\n",
      "| chases_persec_bin(Average) | xp_level(advanced) |                            0.1642 |\n",
      "+----------------------------+--------------------+-----------------------------------+\n",
      "| chases_persec_bin(Average) | xp_level(interm)   |                            0.2604 |\n",
      "+----------------------------+--------------------+-----------------------------------+\n",
      "| chases_persec_bin(Average) | xp_level(novice)   |                            0.1114 |\n",
      "+----------------------------+--------------------+-----------------------------------+\n",
      "| chases_persec_bin(High)    | xp_level(advanced) |                            0.0386 |\n",
      "+----------------------------+--------------------+-----------------------------------+\n",
      "| chases_persec_bin(High)    | xp_level(interm)   |                            0.0544 |\n",
      "+----------------------------+--------------------+-----------------------------------+\n",
      "| chases_persec_bin(High)    | xp_level(novice)   |                            0.0256 |\n",
      "+----------------------------+--------------------+-----------------------------------+\n",
      "| chases_persec_bin(Low)     | xp_level(advanced) |                            0.0994 |\n",
      "+----------------------------+--------------------+-----------------------------------+\n",
      "| chases_persec_bin(Low)     | xp_level(interm)   |                            0.1566 |\n",
      "+----------------------------+--------------------+-----------------------------------+\n",
      "| chases_persec_bin(Low)     | xp_level(novice)   |                            0.0894 |\n",
      "+----------------------------+--------------------+-----------------------------------+\n",
      "\n",
      "Joint CPD of chase rate and xp level given short time lags between sessions\n",
      " +----------------------------+--------------------+-----------------------------------+\n",
      "| chases_persec_bin          | xp_level           |   phi(chases_persec_bin,xp_level) |\n",
      "+============================+====================+===================================+\n",
      "| chases_persec_bin(Average) | xp_level(novice)   |                            0.1090 |\n",
      "+----------------------------+--------------------+-----------------------------------+\n",
      "| chases_persec_bin(Average) | xp_level(advanced) |                            0.1576 |\n",
      "+----------------------------+--------------------+-----------------------------------+\n",
      "| chases_persec_bin(Average) | xp_level(interm)   |                            0.2642 |\n",
      "+----------------------------+--------------------+-----------------------------------+\n",
      "| chases_persec_bin(Low)     | xp_level(novice)   |                            0.0824 |\n",
      "+----------------------------+--------------------+-----------------------------------+\n",
      "| chases_persec_bin(Low)     | xp_level(advanced) |                            0.0982 |\n",
      "+----------------------------+--------------------+-----------------------------------+\n",
      "| chases_persec_bin(Low)     | xp_level(interm)   |                            0.1534 |\n",
      "+----------------------------+--------------------+-----------------------------------+\n",
      "| chases_persec_bin(High)    | xp_level(novice)   |                            0.0274 |\n",
      "+----------------------------+--------------------+-----------------------------------+\n",
      "| chases_persec_bin(High)    | xp_level(advanced) |                            0.0436 |\n",
      "+----------------------------+--------------------+-----------------------------------+\n",
      "| chases_persec_bin(High)    | xp_level(interm)   |                            0.0642 |\n",
      "+----------------------------+--------------------+-----------------------------------+\n"
     ]
    }
   ],
   "source": [
    "print(\"\\nJoint CPD of chase rate and xp level given long time lags between sessions\\n\", q2a)\n",
    "print(\"\\nJoint CPD of chase rate and xp level given short time lags between sessions\\n\", q2b)"
   ]
  },
  {
   "cell_type": "markdown",
   "metadata": {},
   "source": [
    "**Results**.\n",
    "\n",
    "Similar to the foraging mode, chances are higher that predators will have average chase rates when they are intermediate hunters, but also regardless of their experience level. Interestingly, there are also higher chances that chase rates will be low when predators are intermediate and advanced.\n",
    "\n",
    "**Interpretation**.\n",
    "\n",
    "Given that the probability of having high chase rates is low at any level, it seems that predators quickly become better at optimizing chase rates, regardless of the time lag between sessions. For the more efficient predators (low and average chase rates), it remains more likely that lower/average chase rates will be observed when predators are intermediate hunters. This could be due to :\n",
    "\n",
    "- Advanced predators encounter prey that are more experienced and thus won't necessarily be as efficient\n",
    "\n",
    "- There is not as much data for advanced predators compared to novice predators"
   ]
  },
  {
   "cell_type": "markdown",
   "metadata": {},
   "source": [
    "### **4.3 Prey capture**\n",
    "\n",
    "#### **4.3.1 Query 3 - Chase rate given experience level**\n",
    "\n",
    "We now perform queries for the joint probability of prey capture and chase rate given different experience levels."
   ]
  },
  {
   "cell_type": "code",
   "execution_count": null,
   "metadata": {},
   "outputs": [],
   "source": [
    "evid_q3a = {\n",
    "    \"prey_avg_rank_bin\": \"Q3\",\n",
    "    \"xp_level\": \"novice\"\n",
    "    }\n",
    "\n",
    "q3a = infer.query(\n",
    "    variables = [\"prey_captured\", \"chases_persec_bin\"],\n",
    "    evidence = evid_q3a,\n",
    "    joint = True,\n",
    "    n_samples = 5000,\n",
    "    seed = 123,\n",
    "    show_progress = False\n",
    ")"
   ]
  },
  {
   "cell_type": "markdown",
   "metadata": {},
   "source": [
    "We now perform the same query but for when predators are advanced."
   ]
  },
  {
   "cell_type": "code",
   "execution_count": null,
   "metadata": {},
   "outputs": [],
   "source": [
    "evid_q3b = {\n",
    "    \"prey_avg_rank_bin\": \"Q3\",\n",
    "    \"xp_level\": \"advanced\"\n",
    "    }\n",
    "\n",
    "q3b = infer.query(\n",
    "    variables = [\"prey_captured\", \"chases_persec_bin\"],\n",
    "    evidence = evid_q3b,\n",
    "    joint = True,\n",
    "    n_samples = 5000,\n",
    "    seed = 123,\n",
    "    show_progress = False\n",
    ")"
   ]
  },
  {
   "cell_type": "code",
   "execution_count": 63,
   "metadata": {},
   "outputs": [
    {
     "name": "stdout",
     "output_type": "stream",
     "text": [
      "\n",
      "Joint CPD of prey captured and given chase rate given *novice* xp level:\n",
      " +------------------+----------------------------+----------------------------------------+\n",
      "| prey_captured    | chases_persec_bin          |   phi(prey_captured,chases_persec_bin) |\n",
      "+==================+============================+========================================+\n",
      "| prey_captured(1) | chases_persec_bin(Average) |                                 0.3810 |\n",
      "+------------------+----------------------------+----------------------------------------+\n",
      "| prey_captured(1) | chases_persec_bin(Low)     |                                 0.3470 |\n",
      "+------------------+----------------------------+----------------------------------------+\n",
      "| prey_captured(1) | chases_persec_bin(High)    |                                 0.0756 |\n",
      "+------------------+----------------------------+----------------------------------------+\n",
      "| prey_captured(0) | chases_persec_bin(Average) |                                 0.0992 |\n",
      "+------------------+----------------------------+----------------------------------------+\n",
      "| prey_captured(0) | chases_persec_bin(Low)     |                                 0.0528 |\n",
      "+------------------+----------------------------+----------------------------------------+\n",
      "| prey_captured(0) | chases_persec_bin(High)    |                                 0.0444 |\n",
      "+------------------+----------------------------+----------------------------------------+\n",
      "\n",
      "Joint CPD of prey captured and given chase rate given *advanced* xp level:\n",
      " +------------------+----------------------------+----------------------------------------+\n",
      "| prey_captured    | chases_persec_bin          |   phi(prey_captured,chases_persec_bin) |\n",
      "+==================+============================+========================================+\n",
      "| prey_captured(1) | chases_persec_bin(Average) |                                 0.4178 |\n",
      "+------------------+----------------------------+----------------------------------------+\n",
      "| prey_captured(1) | chases_persec_bin(Low)     |                                 0.2832 |\n",
      "+------------------+----------------------------+----------------------------------------+\n",
      "| prey_captured(1) | chases_persec_bin(High)    |                                 0.0880 |\n",
      "+------------------+----------------------------+----------------------------------------+\n",
      "| prey_captured(0) | chases_persec_bin(Average) |                                 0.1170 |\n",
      "+------------------+----------------------------+----------------------------------------+\n",
      "| prey_captured(0) | chases_persec_bin(Low)     |                                 0.0438 |\n",
      "+------------------+----------------------------+----------------------------------------+\n",
      "| prey_captured(0) | chases_persec_bin(High)    |                                 0.0502 |\n",
      "+------------------+----------------------------+----------------------------------------+\n"
     ]
    }
   ],
   "source": [
    "print(\"\\nJoint CPD of prey captured and given chase rate given *novice* xp level:\\n\", q3a)\n",
    "print(\"\\nJoint CPD of prey captured and given chase rate given *advanced* xp level:\\n\", q3b)"
   ]
  },
  {
   "cell_type": "markdown",
   "metadata": {},
   "source": [
    "**Results.**\n",
    "\n",
    "**Interpretation.**\n",
    "\n",
    "**Notes:** This result could be combined with prey speed to test two processes simultaneously"
   ]
  },
  {
   "cell_type": "markdown",
   "metadata": {},
   "source": [
    "## **5. Question 2 - Past experience and memory**"
   ]
  },
  {
   "cell_type": "markdown",
   "metadata": {},
   "source": [
    "### **5.1 Foraging mode**\n",
    "\n",
    "#### **5.1.1 Query 4 - Range of prey encountered**"
   ]
  },
  {
   "cell_type": "code",
   "execution_count": null,
   "metadata": {},
   "outputs": [],
   "source": [
    "q4 = infer.query(\n",
    "    variables = [\"pred_speed_bin\", \"iqrange_prey_speed_bin\"],\n",
    "    joint = True,\n",
    "    n_samples = 5000,\n",
    "    seed = 123,\n",
    "    show_progress = False\n",
    ")"
   ]
  },
  {
   "cell_type": "code",
   "execution_count": 67,
   "metadata": {},
   "outputs": [
    {
     "name": "stdout",
     "output_type": "stream",
     "text": [
      "\n",
      "Joint CPD of the predator's foraging mode and range of prey encountered\n",
      " +-------------------------+----------------------------+----------------------------------------------+\n",
      "| pred_speed_bin          | iqrange_prey_speed_bin     |   phi(pred_speed_bin,iqrange_prey_speed_bin) |\n",
      "+=========================+============================+==============================================+\n",
      "| pred_speed_bin(Faster)  | iqrange_prey_speed_bin(Q5) |                                       0.0240 |\n",
      "+-------------------------+----------------------------+----------------------------------------------+\n",
      "| pred_speed_bin(Faster)  | iqrange_prey_speed_bin(Q4) |                                       0.0164 |\n",
      "+-------------------------+----------------------------+----------------------------------------------+\n",
      "| pred_speed_bin(Faster)  | iqrange_prey_speed_bin(Q3) |                                       0.0164 |\n",
      "+-------------------------+----------------------------+----------------------------------------------+\n",
      "| pred_speed_bin(Faster)  | iqrange_prey_speed_bin(Q1) |                                       0.0158 |\n",
      "+-------------------------+----------------------------+----------------------------------------------+\n",
      "| pred_speed_bin(Faster)  | iqrange_prey_speed_bin(Q2) |                                       0.0170 |\n",
      "+-------------------------+----------------------------+----------------------------------------------+\n",
      "| pred_speed_bin(Slower)  | iqrange_prey_speed_bin(Q5) |                                       0.0422 |\n",
      "+-------------------------+----------------------------+----------------------------------------------+\n",
      "| pred_speed_bin(Slower)  | iqrange_prey_speed_bin(Q4) |                                       0.0406 |\n",
      "+-------------------------+----------------------------+----------------------------------------------+\n",
      "| pred_speed_bin(Slower)  | iqrange_prey_speed_bin(Q3) |                                       0.0364 |\n",
      "+-------------------------+----------------------------+----------------------------------------------+\n",
      "| pred_speed_bin(Slower)  | iqrange_prey_speed_bin(Q1) |                                       0.0402 |\n",
      "+-------------------------+----------------------------+----------------------------------------------+\n",
      "| pred_speed_bin(Slower)  | iqrange_prey_speed_bin(Q2) |                                       0.0358 |\n",
      "+-------------------------+----------------------------+----------------------------------------------+\n",
      "| pred_speed_bin(Average) | iqrange_prey_speed_bin(Q5) |                                       0.1348 |\n",
      "+-------------------------+----------------------------+----------------------------------------------+\n",
      "| pred_speed_bin(Average) | iqrange_prey_speed_bin(Q4) |                                       0.1434 |\n",
      "+-------------------------+----------------------------+----------------------------------------------+\n",
      "| pred_speed_bin(Average) | iqrange_prey_speed_bin(Q3) |                                       0.1588 |\n",
      "+-------------------------+----------------------------+----------------------------------------------+\n",
      "| pred_speed_bin(Average) | iqrange_prey_speed_bin(Q1) |                                       0.1312 |\n",
      "+-------------------------+----------------------------+----------------------------------------------+\n",
      "| pred_speed_bin(Average) | iqrange_prey_speed_bin(Q2) |                                       0.1470 |\n",
      "+-------------------------+----------------------------+----------------------------------------------+\n"
     ]
    }
   ],
   "source": [
    "print(\"\\nJoint CPD of the predator's foraging mode and range of prey encountered\\n\", q4)"
   ]
  },
  {
   "cell_type": "markdown",
   "metadata": {},
   "source": [
    "**Results.**\n",
    "\n",
    "The probability of adopting an intercepting foraging mode is much higher than other modes regardless of the range of prey encountered.\n",
    "\n",
    "Let's see if the foraging mode changes with past success."
   ]
  },
  {
   "cell_type": "markdown",
   "metadata": {},
   "source": [
    "#### **5.1.2 Query 5 - Prior prey capture**"
   ]
  },
  {
   "cell_type": "code",
   "execution_count": null,
   "metadata": {},
   "outputs": [],
   "source": [
    "q5 = infer.query(\n",
    "    variables = [\"pred_speed_bin\", \"prior_prey_captured\"],\n",
    "    joint = True,\n",
    "    n_samples = 5000,\n",
    "    seed = 123,\n",
    "    show_progress = False\n",
    ")"
   ]
  },
  {
   "cell_type": "code",
   "execution_count": 69,
   "metadata": {},
   "outputs": [
    {
     "name": "stdout",
     "output_type": "stream",
     "text": [
      "\n",
      "Joint CPD of foraging mode and prior prey capture\n",
      " +-------------------------+--------------------------+-------------------------------------------+\n",
      "| pred_speed_bin          | prior_prey_captured      |   phi(pred_speed_bin,prior_prey_captured) |\n",
      "+=========================+==========================+===========================================+\n",
      "| pred_speed_bin(Faster)  | prior_prey_captured(1.0) |                                    0.0638 |\n",
      "+-------------------------+--------------------------+-------------------------------------------+\n",
      "| pred_speed_bin(Faster)  | prior_prey_captured(0.0) |                                    0.0258 |\n",
      "+-------------------------+--------------------------+-------------------------------------------+\n",
      "| pred_speed_bin(Slower)  | prior_prey_captured(1.0) |                                    0.1418 |\n",
      "+-------------------------+--------------------------+-------------------------------------------+\n",
      "| pred_speed_bin(Slower)  | prior_prey_captured(0.0) |                                    0.0534 |\n",
      "+-------------------------+--------------------------+-------------------------------------------+\n",
      "| pred_speed_bin(Average) | prior_prey_captured(1.0) |                                    0.5698 |\n",
      "+-------------------------+--------------------------+-------------------------------------------+\n",
      "| pred_speed_bin(Average) | prior_prey_captured(0.0) |                                    0.1454 |\n",
      "+-------------------------+--------------------------+-------------------------------------------+\n"
     ]
    }
   ],
   "source": [
    "print(\"\\nJoint CPD of foraging mode and prior prey capture\\n\", q5)"
   ]
  },
  {
   "cell_type": "markdown",
   "metadata": {},
   "source": [
    "**Results.**\n",
    "\n",
    "Chances of adopting an intercepting strategy are much higher when predators previously captured prey. This is because at the population level, it is the optimal strategy. Adopting an ambush (slower) strategy is more rare (14%) when prey were previously captured, but 2.2x more likely than the cursorial strategy (fast)\n",
    "\n",
    "When no captures occured, predators are also more likely to adopt the intercepting strategy, probably because it is the best at managing any type of prey overall."
   ]
  },
  {
   "cell_type": "markdown",
   "metadata": {},
   "source": [
    "#### **5.1.3 Query 6 - Prior chase rate**"
   ]
  },
  {
   "cell_type": "markdown",
   "metadata": {},
   "source": [
    "The prior chase rate is the highest scoring variable influencing foraging mode. Let us investigate this with the next query."
   ]
  },
  {
   "cell_type": "code",
   "execution_count": null,
   "metadata": {},
   "outputs": [],
   "source": [
    "q6 = infer.query(\n",
    "    variables = [\"pred_speed_bin\", \"chases_persec_bin\"],\n",
    "    joint = True,\n",
    "    n_samples = 5000,\n",
    "    seed = 123,\n",
    "    show_progress = False\n",
    ")"
   ]
  },
  {
   "cell_type": "code",
   "execution_count": 72,
   "metadata": {},
   "outputs": [
    {
     "name": "stdout",
     "output_type": "stream",
     "text": [
      "\n",
      "Joint CPD of foraging mode and prior chase rate\n",
      " +-------------------------+----------------------------+-----------------------------------------+\n",
      "| pred_speed_bin          | chases_persec_bin          |   phi(pred_speed_bin,chases_persec_bin) |\n",
      "+=========================+============================+=========================================+\n",
      "| pred_speed_bin(Faster)  | chases_persec_bin(Low)     |                                  0.0296 |\n",
      "+-------------------------+----------------------------+-----------------------------------------+\n",
      "| pred_speed_bin(Faster)  | chases_persec_bin(High)    |                                  0.0130 |\n",
      "+-------------------------+----------------------------+-----------------------------------------+\n",
      "| pred_speed_bin(Faster)  | chases_persec_bin(Average) |                                  0.0470 |\n",
      "+-------------------------+----------------------------+-----------------------------------------+\n",
      "| pred_speed_bin(Slower)  | chases_persec_bin(Low)     |                                  0.0692 |\n",
      "+-------------------------+----------------------------+-----------------------------------------+\n",
      "| pred_speed_bin(Slower)  | chases_persec_bin(High)    |                                  0.0302 |\n",
      "+-------------------------+----------------------------+-----------------------------------------+\n",
      "| pred_speed_bin(Slower)  | chases_persec_bin(Average) |                                  0.0958 |\n",
      "+-------------------------+----------------------------+-----------------------------------------+\n",
      "| pred_speed_bin(Average) | chases_persec_bin(Low)     |                                  0.2492 |\n",
      "+-------------------------+----------------------------+-----------------------------------------+\n",
      "| pred_speed_bin(Average) | chases_persec_bin(High)    |                                  0.0752 |\n",
      "+-------------------------+----------------------------+-----------------------------------------+\n",
      "| pred_speed_bin(Average) | chases_persec_bin(Average) |                                  0.3908 |\n",
      "+-------------------------+----------------------------+-----------------------------------------+\n"
     ]
    }
   ],
   "source": [
    "print(\"\\nJoint CPD of foraging mode and prior chase rate\\n\", q6)"
   ]
  },
  {
   "cell_type": "markdown",
   "metadata": {},
   "source": [
    "**Results.**\n",
    "\n",
    "Similar to what we got above, chances are much greater that a predator will adopt an intercepting foraging mode when the prior chase rate either low or average."
   ]
  }
 ],
 "metadata": {
  "kernelspec": {
   "display_name": ".venv",
   "language": "python",
   "name": "python3"
  },
  "language_info": {
   "codemirror_mode": {
    "name": "ipython",
    "version": 3
   },
   "file_extension": ".py",
   "mimetype": "text/x-python",
   "name": "python",
   "nbconvert_exporter": "python",
   "pygments_lexer": "ipython3",
   "version": "3.10.12"
  }
 },
 "nbformat": 4,
 "nbformat_minor": 2
}
